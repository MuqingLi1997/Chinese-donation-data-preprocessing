{
 "cells": [
  {
   "attachments": {},
   "cell_type": "markdown",
   "metadata": {},
   "source": [
    "## Data preprocessing:\n",
    "1.  Given the column “Year of born”, please calculate the value for column “Age” in Sheet 1 “Individual”.\n",
    "\n",
    "2.  Calculate the “Total Donation Amount” for each donor in the first three sheets “Individual”, “Organization (Public)” and “Organization (Private)”, respectively. \n",
    "\n",
    "3.  Calculate the rank for each donor in the first three sheet. Sort the data in ascending order by the rank. \n",
    "\n",
    "4.  Create a composite rank list that includes all donors from the first three sheets, using the “Total Donation Amount” that you calculated in Question 2. \n",
    "\n",
    "5.  Fill the column “Industry” in Sheet 4 “Composite Rank” using the information in the first three sheets. "
   ]
  },
  {
   "cell_type": "code",
   "execution_count": 158,
   "metadata": {},
   "outputs": [],
   "source": [
    "#import python packages\n",
    "import pandas as pd\n",
    "import numpy as np\n",
    "import random\n",
    "from sklearn.preprocessing import LabelEncoder"
   ]
  },
  {
   "cell_type": "code",
   "execution_count": 159,
   "metadata": {},
   "outputs": [],
   "source": [
    "# 加载Excel文件\n",
    "#!pip install openpyxl\n",
    "xls = pd.ExcelFile('Excel Test.xlsx')\n",
    "\n",
    "# 分别读取Excel中的每个Sheet\n",
    "individual = pd.read_excel(xls, '1. Individual')\n",
    "organization_public = pd.read_excel(xls, '2. Organization (Public)')\n",
    "organization_private = pd.read_excel(xls, '3. Organization (Private)')\n",
    "composite_rank = pd.read_excel(xls, '4. Composite Rank')"
   ]
  },
  {
   "cell_type": "code",
   "execution_count": 160,
   "metadata": {},
   "outputs": [
    {
     "data": {
      "text/html": [
       "<div>\n",
       "<style scoped>\n",
       "    .dataframe tbody tr th:only-of-type {\n",
       "        vertical-align: middle;\n",
       "    }\n",
       "\n",
       "    .dataframe tbody tr th {\n",
       "        vertical-align: top;\n",
       "    }\n",
       "\n",
       "    .dataframe thead th {\n",
       "        text-align: right;\n",
       "    }\n",
       "</style>\n",
       "<table border=\"1\" class=\"dataframe\">\n",
       "  <thead>\n",
       "    <tr style=\"text-align: right;\">\n",
       "      <th></th>\n",
       "      <th>Rank</th>\n",
       "      <th>Total Amount</th>\n",
       "      <th>Name (CN)</th>\n",
       "      <th>Year born</th>\n",
       "      <th>Age</th>\n",
       "      <th>Sex</th>\n",
       "      <th>Industry</th>\n",
       "      <th>Donation Amount (mil ¥)</th>\n",
       "      <th>Donation Month</th>\n",
       "      <th>Donation Date</th>\n",
       "      <th>...</th>\n",
       "      <th>Donation Destination (Province)</th>\n",
       "      <th>Donation Destination (City)</th>\n",
       "      <th>Name of Recipient</th>\n",
       "      <th>Name of Recipient (CN)</th>\n",
       "      <th>Donation for what program?</th>\n",
       "      <th>Type of Recipient</th>\n",
       "      <th>Donation Cause</th>\n",
       "      <th>Donation Vehicle</th>\n",
       "      <th>Form of Donation</th>\n",
       "      <th>Pledge? (Y/N)</th>\n",
       "    </tr>\n",
       "  </thead>\n",
       "  <tbody>\n",
       "    <tr>\n",
       "      <th>0</th>\n",
       "      <td>NaN</td>\n",
       "      <td>NaN</td>\n",
       "      <td>陈天桥</td>\n",
       "      <td>1974</td>\n",
       "      <td>NaN</td>\n",
       "      <td>M</td>\n",
       "      <td>Software and Internet</td>\n",
       "      <td>747.5</td>\n",
       "      <td>12.0</td>\n",
       "      <td>7.0</td>\n",
       "      <td>...</td>\n",
       "      <td>CA, USA</td>\n",
       "      <td>Pasadena</td>\n",
       "      <td>NaN</td>\n",
       "      <td>加州理工学院</td>\n",
       "      <td>创建神经科学研究所</td>\n",
       "      <td>University or University Foundation</td>\n",
       "      <td>Education</td>\n",
       "      <td>Individual</td>\n",
       "      <td>Cash</td>\n",
       "      <td>N</td>\n",
       "    </tr>\n",
       "    <tr>\n",
       "      <th>1</th>\n",
       "      <td>NaN</td>\n",
       "      <td>NaN</td>\n",
       "      <td>曹德旺</td>\n",
       "      <td>1985</td>\n",
       "      <td>NaN</td>\n",
       "      <td>NaN</td>\n",
       "      <td>Manufacturing</td>\n",
       "      <td>250.0</td>\n",
       "      <td>11.0</td>\n",
       "      <td>27.0</td>\n",
       "      <td>...</td>\n",
       "      <td>NaN</td>\n",
       "      <td>NaN</td>\n",
       "      <td>NaN</td>\n",
       "      <td>黄檗山万福禅寺</td>\n",
       "      <td>重兴黄檗山万福禅寺</td>\n",
       "      <td>NGO</td>\n",
       "      <td>Culture</td>\n",
       "      <td>NaN</td>\n",
       "      <td>Cash</td>\n",
       "      <td>N</td>\n",
       "    </tr>\n",
       "    <tr>\n",
       "      <th>2</th>\n",
       "      <td>NaN</td>\n",
       "      <td>NaN</td>\n",
       "      <td>吴少勋</td>\n",
       "      <td>1961</td>\n",
       "      <td>NaN</td>\n",
       "      <td>M</td>\n",
       "      <td>Consumer</td>\n",
       "      <td>113.0</td>\n",
       "      <td>1.0</td>\n",
       "      <td>28.0</td>\n",
       "      <td>...</td>\n",
       "      <td>Hubei</td>\n",
       "      <td>Wuhan</td>\n",
       "      <td>NaN</td>\n",
       "      <td>湖北慈善总会</td>\n",
       "      <td>大冶体育公园</td>\n",
       "      <td>Government Charitable Organization</td>\n",
       "      <td>Social Welfare &amp; Poverty Alleviation</td>\n",
       "      <td>Individual</td>\n",
       "      <td>Cash</td>\n",
       "      <td>N</td>\n",
       "    </tr>\n",
       "  </tbody>\n",
       "</table>\n",
       "<p>3 rows × 22 columns</p>\n",
       "</div>"
      ],
      "text/plain": [
       "   Rank  Total Amount Name (CN)  Year born  Age  Sex               Industry  \\\n",
       "0   NaN           NaN       陈天桥       1974  NaN    M  Software and Internet   \n",
       "1   NaN           NaN       曹德旺       1985  NaN  NaN          Manufacturing   \n",
       "2   NaN           NaN       吴少勋       1961  NaN    M               Consumer   \n",
       "\n",
       "   Donation Amount (mil ¥)  Donation Month  Donation Date  ...  \\\n",
       "0                    747.5            12.0            7.0  ...   \n",
       "1                    250.0            11.0           27.0  ...   \n",
       "2                    113.0             1.0           28.0  ...   \n",
       "\n",
       "  Donation Destination (Province) Donation Destination (City)  \\\n",
       "0                         CA, USA                    Pasadena   \n",
       "1                             NaN                         NaN   \n",
       "2                           Hubei                       Wuhan   \n",
       "\n",
       "  Name of Recipient Name of Recipient (CN) Donation for what program?  \\\n",
       "0               NaN                 加州理工学院                  创建神经科学研究所   \n",
       "1               NaN                黄檗山万福禅寺                  重兴黄檗山万福禅寺   \n",
       "2               NaN                 湖北慈善总会                     大冶体育公园   \n",
       "\n",
       "                     Type of Recipient                        Donation Cause  \\\n",
       "0  University or University Foundation                             Education   \n",
       "1                                  NGO                               Culture   \n",
       "2   Government Charitable Organization  Social Welfare & Poverty Alleviation   \n",
       "\n",
       "  Donation Vehicle Form of Donation Pledge? (Y/N)  \n",
       "0       Individual             Cash             N  \n",
       "1              NaN             Cash             N  \n",
       "2       Individual             Cash             N  \n",
       "\n",
       "[3 rows x 22 columns]"
      ]
     },
     "execution_count": 160,
     "metadata": {},
     "output_type": "execute_result"
    }
   ],
   "source": [
    "individual.head(3)"
   ]
  },
  {
   "cell_type": "code",
   "execution_count": 161,
   "metadata": {},
   "outputs": [
    {
     "data": {
      "text/html": [
       "<div>\n",
       "<style scoped>\n",
       "    .dataframe tbody tr th:only-of-type {\n",
       "        vertical-align: middle;\n",
       "    }\n",
       "\n",
       "    .dataframe tbody tr th {\n",
       "        vertical-align: top;\n",
       "    }\n",
       "\n",
       "    .dataframe thead th {\n",
       "        text-align: right;\n",
       "    }\n",
       "</style>\n",
       "<table border=\"1\" class=\"dataframe\">\n",
       "  <thead>\n",
       "    <tr style=\"text-align: right;\">\n",
       "      <th></th>\n",
       "      <th>Rank</th>\n",
       "      <th>Total Amount</th>\n",
       "      <th>Organization Name (CN)</th>\n",
       "      <th>Industry</th>\n",
       "      <th>Donation Amount (mil ¥)</th>\n",
       "      <th>Donation Month</th>\n",
       "      <th>Donation Date</th>\n",
       "      <th>Donation Origin (Province)</th>\n",
       "      <th>Donation Origin (City)</th>\n",
       "      <th>Donation Destination (Province)</th>\n",
       "      <th>Donation Destination (City)</th>\n",
       "      <th>Name of Recipient</th>\n",
       "      <th>Name of Recipient (CN)</th>\n",
       "      <th>Donation for what program?</th>\n",
       "      <th>Type of Recipient</th>\n",
       "      <th>Donation Cause</th>\n",
       "      <th>Donation Vehicle</th>\n",
       "      <th>Form of Donation</th>\n",
       "      <th>Pledge? (Y/N)</th>\n",
       "    </tr>\n",
       "  </thead>\n",
       "  <tbody>\n",
       "    <tr>\n",
       "      <th>0</th>\n",
       "      <td>NaN</td>\n",
       "      <td>NaN</td>\n",
       "      <td>中国长江三峡集团公司</td>\n",
       "      <td>NaN</td>\n",
       "      <td>2.0</td>\n",
       "      <td>NaN</td>\n",
       "      <td>NaN</td>\n",
       "      <td>NaN</td>\n",
       "      <td>NaN</td>\n",
       "      <td>NaN</td>\n",
       "      <td>NaN</td>\n",
       "      <td>NaN</td>\n",
       "      <td>屏山县,宜宾县,贫困村,社区</td>\n",
       "      <td>扶贫</td>\n",
       "      <td>Government</td>\n",
       "      <td>Social Welfare &amp; Poverty Alleviation</td>\n",
       "      <td>Corporation</td>\n",
       "      <td>Cash</td>\n",
       "      <td>N</td>\n",
       "    </tr>\n",
       "    <tr>\n",
       "      <th>1</th>\n",
       "      <td>NaN</td>\n",
       "      <td>NaN</td>\n",
       "      <td>中国长江三峡集团公司</td>\n",
       "      <td>NaN</td>\n",
       "      <td>5.0</td>\n",
       "      <td>NaN</td>\n",
       "      <td>NaN</td>\n",
       "      <td>NaN</td>\n",
       "      <td>NaN</td>\n",
       "      <td>NaN</td>\n",
       "      <td>NaN</td>\n",
       "      <td>NaN</td>\n",
       "      <td>福州市、莆田市灾区</td>\n",
       "      <td>救灾</td>\n",
       "      <td>Government</td>\n",
       "      <td>Disaster Relief</td>\n",
       "      <td>Corporation</td>\n",
       "      <td>Cash</td>\n",
       "      <td>N</td>\n",
       "    </tr>\n",
       "    <tr>\n",
       "      <th>2</th>\n",
       "      <td>NaN</td>\n",
       "      <td>NaN</td>\n",
       "      <td>中国长江三峡集团公司</td>\n",
       "      <td>NaN</td>\n",
       "      <td>5.0</td>\n",
       "      <td>NaN</td>\n",
       "      <td>NaN</td>\n",
       "      <td>NaN</td>\n",
       "      <td>NaN</td>\n",
       "      <td>NaN</td>\n",
       "      <td>NaN</td>\n",
       "      <td>NaN</td>\n",
       "      <td>江苏、福建灾区</td>\n",
       "      <td>救灾</td>\n",
       "      <td>Government</td>\n",
       "      <td>Disaster Relief</td>\n",
       "      <td>Corporation</td>\n",
       "      <td>Cash</td>\n",
       "      <td>N</td>\n",
       "    </tr>\n",
       "  </tbody>\n",
       "</table>\n",
       "</div>"
      ],
      "text/plain": [
       "   Rank  Total Amount Organization Name (CN) Industry  \\\n",
       "0   NaN           NaN             中国长江三峡集团公司      NaN   \n",
       "1   NaN           NaN             中国长江三峡集团公司      NaN   \n",
       "2   NaN           NaN             中国长江三峡集团公司      NaN   \n",
       "\n",
       "   Donation Amount (mil ¥)  Donation Month  Donation Date  \\\n",
       "0                      2.0             NaN            NaN   \n",
       "1                      5.0             NaN            NaN   \n",
       "2                      5.0             NaN            NaN   \n",
       "\n",
       "  Donation Origin (Province) Donation Origin (City)  \\\n",
       "0                        NaN                    NaN   \n",
       "1                        NaN                    NaN   \n",
       "2                        NaN                    NaN   \n",
       "\n",
       "  Donation Destination (Province) Donation Destination (City)  \\\n",
       "0                             NaN                         NaN   \n",
       "1                             NaN                         NaN   \n",
       "2                             NaN                         NaN   \n",
       "\n",
       "  Name of Recipient Name of Recipient (CN) Donation for what program?  \\\n",
       "0               NaN         屏山县,宜宾县,贫困村,社区                         扶贫   \n",
       "1               NaN              福州市、莆田市灾区                         救灾   \n",
       "2               NaN                江苏、福建灾区                         救灾   \n",
       "\n",
       "  Type of Recipient                        Donation Cause Donation Vehicle  \\\n",
       "0        Government  Social Welfare & Poverty Alleviation      Corporation   \n",
       "1        Government                       Disaster Relief      Corporation   \n",
       "2        Government                       Disaster Relief      Corporation   \n",
       "\n",
       "  Form of Donation Pledge? (Y/N)  \n",
       "0             Cash             N  \n",
       "1             Cash             N  \n",
       "2             Cash             N  "
      ]
     },
     "execution_count": 161,
     "metadata": {},
     "output_type": "execute_result"
    }
   ],
   "source": [
    "organization_public.head(3)"
   ]
  },
  {
   "cell_type": "code",
   "execution_count": 162,
   "metadata": {},
   "outputs": [
    {
     "data": {
      "text/html": [
       "<div>\n",
       "<style scoped>\n",
       "    .dataframe tbody tr th:only-of-type {\n",
       "        vertical-align: middle;\n",
       "    }\n",
       "\n",
       "    .dataframe tbody tr th {\n",
       "        vertical-align: top;\n",
       "    }\n",
       "\n",
       "    .dataframe thead th {\n",
       "        text-align: right;\n",
       "    }\n",
       "</style>\n",
       "<table border=\"1\" class=\"dataframe\">\n",
       "  <thead>\n",
       "    <tr style=\"text-align: right;\">\n",
       "      <th></th>\n",
       "      <th>Rank</th>\n",
       "      <th>Total Amount</th>\n",
       "      <th>Organization Name (CN)</th>\n",
       "      <th>Industry</th>\n",
       "      <th>Donation Amount (mil ¥)</th>\n",
       "      <th>Donation Month</th>\n",
       "      <th>Donation Date</th>\n",
       "      <th>Donation Origin (Province)</th>\n",
       "      <th>Donation Origin (City)</th>\n",
       "      <th>Donation Destination (Province)</th>\n",
       "      <th>Donation Destination (City)</th>\n",
       "      <th>Name of Recipient</th>\n",
       "      <th>Name of Recipient (CN)</th>\n",
       "      <th>Donation for what program?</th>\n",
       "      <th>Type of Recipient</th>\n",
       "      <th>Donation Cause</th>\n",
       "      <th>Form of Donation</th>\n",
       "      <th>Pledge? (Y/N)</th>\n",
       "    </tr>\n",
       "  </thead>\n",
       "  <tbody>\n",
       "    <tr>\n",
       "      <th>0</th>\n",
       "      <td>NaN</td>\n",
       "      <td>NaN</td>\n",
       "      <td>恒大集团</td>\n",
       "      <td>Real Estate</td>\n",
       "      <td>1000.0</td>\n",
       "      <td>1.0</td>\n",
       "      <td>8.0</td>\n",
       "      <td>Guangdong</td>\n",
       "      <td>Guangzhou</td>\n",
       "      <td>Guizhou</td>\n",
       "      <td>Bijie</td>\n",
       "      <td>NaN</td>\n",
       "      <td>贵州大方县政府</td>\n",
       "      <td>并设立10亿元产业扶贫专项贷款担保基金、举办四期共4000人的吸纳贫困家庭劳动力就业培训、同...</td>\n",
       "      <td>Government</td>\n",
       "      <td>Social Welfare &amp; Poverty Alleviation</td>\n",
       "      <td>Cash</td>\n",
       "      <td>N</td>\n",
       "    </tr>\n",
       "    <tr>\n",
       "      <th>1</th>\n",
       "      <td>NaN</td>\n",
       "      <td>NaN</td>\n",
       "      <td>建业集团</td>\n",
       "      <td>NaN</td>\n",
       "      <td>750.0</td>\n",
       "      <td>9.0</td>\n",
       "      <td>5.0</td>\n",
       "      <td>Henan</td>\n",
       "      <td>Zhengzhou</td>\n",
       "      <td>Henan</td>\n",
       "      <td>Zhengzhou</td>\n",
       "      <td>NaN</td>\n",
       "      <td>河南省慈善总会</td>\n",
       "      <td>深入学习贯彻“慈善法”</td>\n",
       "      <td>NaN</td>\n",
       "      <td>Unspecified</td>\n",
       "      <td>Cash</td>\n",
       "      <td>NaN</td>\n",
       "    </tr>\n",
       "    <tr>\n",
       "      <th>2</th>\n",
       "      <td>NaN</td>\n",
       "      <td>NaN</td>\n",
       "      <td>元林基金会</td>\n",
       "      <td>Manufacturing</td>\n",
       "      <td>500.0</td>\n",
       "      <td>2.0</td>\n",
       "      <td>29.0</td>\n",
       "      <td>Jiangsu</td>\n",
       "      <td>Jiangyin</td>\n",
       "      <td>Jiangsu</td>\n",
       "      <td>Jiangyin</td>\n",
       "      <td>Jiangyin Government</td>\n",
       "      <td>江阴市政府</td>\n",
       "      <td>建康复医院</td>\n",
       "      <td>Government</td>\n",
       "      <td>Public Health</td>\n",
       "      <td>Cash</td>\n",
       "      <td>N</td>\n",
       "    </tr>\n",
       "  </tbody>\n",
       "</table>\n",
       "</div>"
      ],
      "text/plain": [
       "   Rank  Total Amount Organization Name (CN)       Industry  \\\n",
       "0   NaN           NaN                   恒大集团    Real Estate   \n",
       "1   NaN           NaN                   建业集团            NaN   \n",
       "2   NaN           NaN                  元林基金会  Manufacturing   \n",
       "\n",
       "   Donation Amount (mil ¥)  Donation Month  Donation Date  \\\n",
       "0                   1000.0             1.0            8.0   \n",
       "1                    750.0             9.0            5.0   \n",
       "2                    500.0             2.0           29.0   \n",
       "\n",
       "  Donation Origin (Province) Donation Origin (City)  \\\n",
       "0                 Guangdong              Guangzhou    \n",
       "1                      Henan              Zhengzhou   \n",
       "2                    Jiangsu              Jiangyin    \n",
       "\n",
       "  Donation Destination (Province) Donation Destination (City)  \\\n",
       "0                         Guizhou                       Bijie   \n",
       "1                           Henan                   Zhengzhou   \n",
       "2                         Jiangsu                    Jiangyin   \n",
       "\n",
       "     Name of Recipient Name of Recipient (CN)  \\\n",
       "0                  NaN                贵州大方县政府   \n",
       "1                  NaN                河南省慈善总会   \n",
       "2  Jiangyin Government                  江阴市政府   \n",
       "\n",
       "                          Donation for what program? Type of Recipient  \\\n",
       "0  并设立10亿元产业扶贫专项贷款担保基金、举办四期共4000人的吸纳贫困家庭劳动力就业培训、同...        Government   \n",
       "1                                        深入学习贯彻“慈善法”               NaN   \n",
       "2                                              建康复医院        Government   \n",
       "\n",
       "                         Donation Cause Form of Donation Pledge? (Y/N)  \n",
       "0  Social Welfare & Poverty Alleviation             Cash             N  \n",
       "1                           Unspecified             Cash           NaN  \n",
       "2                         Public Health             Cash             N  "
      ]
     },
     "execution_count": 162,
     "metadata": {},
     "output_type": "execute_result"
    }
   ],
   "source": [
    "organization_private.head(3)"
   ]
  },
  {
   "cell_type": "code",
   "execution_count": 163,
   "metadata": {},
   "outputs": [
    {
     "data": {
      "text/html": [
       "<div>\n",
       "<style scoped>\n",
       "    .dataframe tbody tr th:only-of-type {\n",
       "        vertical-align: middle;\n",
       "    }\n",
       "\n",
       "    .dataframe tbody tr th {\n",
       "        vertical-align: top;\n",
       "    }\n",
       "\n",
       "    .dataframe thead th {\n",
       "        text-align: right;\n",
       "    }\n",
       "</style>\n",
       "<table border=\"1\" class=\"dataframe\">\n",
       "  <thead>\n",
       "    <tr style=\"text-align: right;\">\n",
       "      <th></th>\n",
       "      <th>Name</th>\n",
       "      <th>Total Amount</th>\n",
       "      <th>Composite Rank</th>\n",
       "      <th>Category (Public/Private/Individual)</th>\n",
       "      <th>Industry</th>\n",
       "    </tr>\n",
       "  </thead>\n",
       "  <tbody>\n",
       "  </tbody>\n",
       "</table>\n",
       "</div>"
      ],
      "text/plain": [
       "Empty DataFrame\n",
       "Columns: [Name , Total Amount, Composite Rank, Category (Public/Private/Individual), Industry]\n",
       "Index: []"
      ]
     },
     "execution_count": 163,
     "metadata": {},
     "output_type": "execute_result"
    }
   ],
   "source": [
    "composite_rank.head(3)"
   ]
  },
  {
   "attachments": {},
   "cell_type": "markdown",
   "metadata": {},
   "source": [
    "### 1.  Given the column “Year of born”, please calculate the value for column “Age” in Sheet 1 “Individual”."
   ]
  },
  {
   "cell_type": "code",
   "execution_count": 164,
   "metadata": {},
   "outputs": [],
   "source": [
    "from datetime import datetime\n",
    "\n",
    "# Calculate the age\n",
    "current_year = datetime.now().year\n",
    "individual['Age'] = current_year - individual['Year born']"
   ]
  },
  {
   "cell_type": "code",
   "execution_count": 165,
   "metadata": {},
   "outputs": [
    {
     "data": {
      "text/html": [
       "<div>\n",
       "<style scoped>\n",
       "    .dataframe tbody tr th:only-of-type {\n",
       "        vertical-align: middle;\n",
       "    }\n",
       "\n",
       "    .dataframe tbody tr th {\n",
       "        vertical-align: top;\n",
       "    }\n",
       "\n",
       "    .dataframe thead th {\n",
       "        text-align: right;\n",
       "    }\n",
       "</style>\n",
       "<table border=\"1\" class=\"dataframe\">\n",
       "  <thead>\n",
       "    <tr style=\"text-align: right;\">\n",
       "      <th></th>\n",
       "      <th>Rank</th>\n",
       "      <th>Total Amount</th>\n",
       "      <th>Name (CN)</th>\n",
       "      <th>Year born</th>\n",
       "      <th>Age</th>\n",
       "      <th>Sex</th>\n",
       "      <th>Industry</th>\n",
       "      <th>Donation Amount (mil ¥)</th>\n",
       "      <th>Donation Month</th>\n",
       "      <th>Donation Date</th>\n",
       "      <th>...</th>\n",
       "      <th>Donation Destination (Province)</th>\n",
       "      <th>Donation Destination (City)</th>\n",
       "      <th>Name of Recipient</th>\n",
       "      <th>Name of Recipient (CN)</th>\n",
       "      <th>Donation for what program?</th>\n",
       "      <th>Type of Recipient</th>\n",
       "      <th>Donation Cause</th>\n",
       "      <th>Donation Vehicle</th>\n",
       "      <th>Form of Donation</th>\n",
       "      <th>Pledge? (Y/N)</th>\n",
       "    </tr>\n",
       "  </thead>\n",
       "  <tbody>\n",
       "    <tr>\n",
       "      <th>0</th>\n",
       "      <td>NaN</td>\n",
       "      <td>NaN</td>\n",
       "      <td>陈天桥</td>\n",
       "      <td>1974</td>\n",
       "      <td>49</td>\n",
       "      <td>M</td>\n",
       "      <td>Software and Internet</td>\n",
       "      <td>747.5</td>\n",
       "      <td>12.0</td>\n",
       "      <td>7.0</td>\n",
       "      <td>...</td>\n",
       "      <td>CA, USA</td>\n",
       "      <td>Pasadena</td>\n",
       "      <td>NaN</td>\n",
       "      <td>加州理工学院</td>\n",
       "      <td>创建神经科学研究所</td>\n",
       "      <td>University or University Foundation</td>\n",
       "      <td>Education</td>\n",
       "      <td>Individual</td>\n",
       "      <td>Cash</td>\n",
       "      <td>N</td>\n",
       "    </tr>\n",
       "    <tr>\n",
       "      <th>1</th>\n",
       "      <td>NaN</td>\n",
       "      <td>NaN</td>\n",
       "      <td>曹德旺</td>\n",
       "      <td>1985</td>\n",
       "      <td>38</td>\n",
       "      <td>NaN</td>\n",
       "      <td>Manufacturing</td>\n",
       "      <td>250.0</td>\n",
       "      <td>11.0</td>\n",
       "      <td>27.0</td>\n",
       "      <td>...</td>\n",
       "      <td>NaN</td>\n",
       "      <td>NaN</td>\n",
       "      <td>NaN</td>\n",
       "      <td>黄檗山万福禅寺</td>\n",
       "      <td>重兴黄檗山万福禅寺</td>\n",
       "      <td>NGO</td>\n",
       "      <td>Culture</td>\n",
       "      <td>NaN</td>\n",
       "      <td>Cash</td>\n",
       "      <td>N</td>\n",
       "    </tr>\n",
       "    <tr>\n",
       "      <th>2</th>\n",
       "      <td>NaN</td>\n",
       "      <td>NaN</td>\n",
       "      <td>吴少勋</td>\n",
       "      <td>1961</td>\n",
       "      <td>62</td>\n",
       "      <td>M</td>\n",
       "      <td>Consumer</td>\n",
       "      <td>113.0</td>\n",
       "      <td>1.0</td>\n",
       "      <td>28.0</td>\n",
       "      <td>...</td>\n",
       "      <td>Hubei</td>\n",
       "      <td>Wuhan</td>\n",
       "      <td>NaN</td>\n",
       "      <td>湖北慈善总会</td>\n",
       "      <td>大冶体育公园</td>\n",
       "      <td>Government Charitable Organization</td>\n",
       "      <td>Social Welfare &amp; Poverty Alleviation</td>\n",
       "      <td>Individual</td>\n",
       "      <td>Cash</td>\n",
       "      <td>N</td>\n",
       "    </tr>\n",
       "  </tbody>\n",
       "</table>\n",
       "<p>3 rows × 22 columns</p>\n",
       "</div>"
      ],
      "text/plain": [
       "   Rank  Total Amount Name (CN)  Year born  Age  Sex               Industry  \\\n",
       "0   NaN           NaN       陈天桥       1974   49    M  Software and Internet   \n",
       "1   NaN           NaN       曹德旺       1985   38  NaN          Manufacturing   \n",
       "2   NaN           NaN       吴少勋       1961   62    M               Consumer   \n",
       "\n",
       "   Donation Amount (mil ¥)  Donation Month  Donation Date  ...  \\\n",
       "0                    747.5            12.0            7.0  ...   \n",
       "1                    250.0            11.0           27.0  ...   \n",
       "2                    113.0             1.0           28.0  ...   \n",
       "\n",
       "  Donation Destination (Province) Donation Destination (City)  \\\n",
       "0                         CA, USA                    Pasadena   \n",
       "1                             NaN                         NaN   \n",
       "2                           Hubei                       Wuhan   \n",
       "\n",
       "  Name of Recipient Name of Recipient (CN) Donation for what program?  \\\n",
       "0               NaN                 加州理工学院                  创建神经科学研究所   \n",
       "1               NaN                黄檗山万福禅寺                  重兴黄檗山万福禅寺   \n",
       "2               NaN                 湖北慈善总会                     大冶体育公园   \n",
       "\n",
       "                     Type of Recipient                        Donation Cause  \\\n",
       "0  University or University Foundation                             Education   \n",
       "1                                  NGO                               Culture   \n",
       "2   Government Charitable Organization  Social Welfare & Poverty Alleviation   \n",
       "\n",
       "  Donation Vehicle Form of Donation Pledge? (Y/N)  \n",
       "0       Individual             Cash             N  \n",
       "1              NaN             Cash             N  \n",
       "2       Individual             Cash             N  \n",
       "\n",
       "[3 rows x 22 columns]"
      ]
     },
     "execution_count": 165,
     "metadata": {},
     "output_type": "execute_result"
    }
   ],
   "source": [
    "individual.head(3)"
   ]
  },
  {
   "attachments": {},
   "cell_type": "markdown",
   "metadata": {},
   "source": [
    "### 2. Calculate the “Total Donation Amount” for each donor in the first three sheets “Individual”, “Organization (Public)” and “Organization (Private)”, respectively. \n"
   ]
  },
  {
   "cell_type": "code",
   "execution_count": 166,
   "metadata": {},
   "outputs": [],
   "source": [
    "individual['Total Amount'] = individual.groupby('Name (CN)')['Donation Amount (mil ¥)'].transform('sum')\n",
    "organization_public['Total Amount'] = organization_public.groupby('Organization Name (CN)')['Donation Amount (mil ¥)'].transform('sum')\n",
    "organization_private['Total Amount'] = organization_private.groupby('Organization Name (CN)')['Donation Amount (mil ¥)'].transform('sum')"
   ]
  },
  {
   "cell_type": "code",
   "execution_count": 167,
   "metadata": {},
   "outputs": [
    {
     "data": {
      "text/html": [
       "<div>\n",
       "<style scoped>\n",
       "    .dataframe tbody tr th:only-of-type {\n",
       "        vertical-align: middle;\n",
       "    }\n",
       "\n",
       "    .dataframe tbody tr th {\n",
       "        vertical-align: top;\n",
       "    }\n",
       "\n",
       "    .dataframe thead th {\n",
       "        text-align: right;\n",
       "    }\n",
       "</style>\n",
       "<table border=\"1\" class=\"dataframe\">\n",
       "  <thead>\n",
       "    <tr style=\"text-align: right;\">\n",
       "      <th></th>\n",
       "      <th>Rank</th>\n",
       "      <th>Total Amount</th>\n",
       "      <th>Name (CN)</th>\n",
       "      <th>Year born</th>\n",
       "      <th>Age</th>\n",
       "      <th>Sex</th>\n",
       "      <th>Industry</th>\n",
       "      <th>Donation Amount (mil ¥)</th>\n",
       "      <th>Donation Month</th>\n",
       "      <th>Donation Date</th>\n",
       "      <th>...</th>\n",
       "      <th>Donation Destination (Province)</th>\n",
       "      <th>Donation Destination (City)</th>\n",
       "      <th>Name of Recipient</th>\n",
       "      <th>Name of Recipient (CN)</th>\n",
       "      <th>Donation for what program?</th>\n",
       "      <th>Type of Recipient</th>\n",
       "      <th>Donation Cause</th>\n",
       "      <th>Donation Vehicle</th>\n",
       "      <th>Form of Donation</th>\n",
       "      <th>Pledge? (Y/N)</th>\n",
       "    </tr>\n",
       "  </thead>\n",
       "  <tbody>\n",
       "    <tr>\n",
       "      <th>0</th>\n",
       "      <td>NaN</td>\n",
       "      <td>747.5</td>\n",
       "      <td>陈天桥</td>\n",
       "      <td>1974</td>\n",
       "      <td>49</td>\n",
       "      <td>M</td>\n",
       "      <td>Software and Internet</td>\n",
       "      <td>747.5</td>\n",
       "      <td>12.0</td>\n",
       "      <td>7.0</td>\n",
       "      <td>...</td>\n",
       "      <td>CA, USA</td>\n",
       "      <td>Pasadena</td>\n",
       "      <td>NaN</td>\n",
       "      <td>加州理工学院</td>\n",
       "      <td>创建神经科学研究所</td>\n",
       "      <td>University or University Foundation</td>\n",
       "      <td>Education</td>\n",
       "      <td>Individual</td>\n",
       "      <td>Cash</td>\n",
       "      <td>N</td>\n",
       "    </tr>\n",
       "    <tr>\n",
       "      <th>1</th>\n",
       "      <td>NaN</td>\n",
       "      <td>250.0</td>\n",
       "      <td>曹德旺</td>\n",
       "      <td>1985</td>\n",
       "      <td>38</td>\n",
       "      <td>NaN</td>\n",
       "      <td>Manufacturing</td>\n",
       "      <td>250.0</td>\n",
       "      <td>11.0</td>\n",
       "      <td>27.0</td>\n",
       "      <td>...</td>\n",
       "      <td>NaN</td>\n",
       "      <td>NaN</td>\n",
       "      <td>NaN</td>\n",
       "      <td>黄檗山万福禅寺</td>\n",
       "      <td>重兴黄檗山万福禅寺</td>\n",
       "      <td>NGO</td>\n",
       "      <td>Culture</td>\n",
       "      <td>NaN</td>\n",
       "      <td>Cash</td>\n",
       "      <td>N</td>\n",
       "    </tr>\n",
       "    <tr>\n",
       "      <th>2</th>\n",
       "      <td>NaN</td>\n",
       "      <td>114.0</td>\n",
       "      <td>吴少勋</td>\n",
       "      <td>1961</td>\n",
       "      <td>62</td>\n",
       "      <td>M</td>\n",
       "      <td>Consumer</td>\n",
       "      <td>113.0</td>\n",
       "      <td>1.0</td>\n",
       "      <td>28.0</td>\n",
       "      <td>...</td>\n",
       "      <td>Hubei</td>\n",
       "      <td>Wuhan</td>\n",
       "      <td>NaN</td>\n",
       "      <td>湖北慈善总会</td>\n",
       "      <td>大冶体育公园</td>\n",
       "      <td>Government Charitable Organization</td>\n",
       "      <td>Social Welfare &amp; Poverty Alleviation</td>\n",
       "      <td>Individual</td>\n",
       "      <td>Cash</td>\n",
       "      <td>N</td>\n",
       "    </tr>\n",
       "  </tbody>\n",
       "</table>\n",
       "<p>3 rows × 22 columns</p>\n",
       "</div>"
      ],
      "text/plain": [
       "   Rank  Total Amount Name (CN)  Year born  Age  Sex               Industry  \\\n",
       "0   NaN         747.5       陈天桥       1974   49    M  Software and Internet   \n",
       "1   NaN         250.0       曹德旺       1985   38  NaN          Manufacturing   \n",
       "2   NaN         114.0       吴少勋       1961   62    M               Consumer   \n",
       "\n",
       "   Donation Amount (mil ¥)  Donation Month  Donation Date  ...  \\\n",
       "0                    747.5            12.0            7.0  ...   \n",
       "1                    250.0            11.0           27.0  ...   \n",
       "2                    113.0             1.0           28.0  ...   \n",
       "\n",
       "  Donation Destination (Province) Donation Destination (City)  \\\n",
       "0                         CA, USA                    Pasadena   \n",
       "1                             NaN                         NaN   \n",
       "2                           Hubei                       Wuhan   \n",
       "\n",
       "  Name of Recipient Name of Recipient (CN) Donation for what program?  \\\n",
       "0               NaN                 加州理工学院                  创建神经科学研究所   \n",
       "1               NaN                黄檗山万福禅寺                  重兴黄檗山万福禅寺   \n",
       "2               NaN                 湖北慈善总会                     大冶体育公园   \n",
       "\n",
       "                     Type of Recipient                        Donation Cause  \\\n",
       "0  University or University Foundation                             Education   \n",
       "1                                  NGO                               Culture   \n",
       "2   Government Charitable Organization  Social Welfare & Poverty Alleviation   \n",
       "\n",
       "  Donation Vehicle Form of Donation Pledge? (Y/N)  \n",
       "0       Individual             Cash             N  \n",
       "1              NaN             Cash             N  \n",
       "2       Individual             Cash             N  \n",
       "\n",
       "[3 rows x 22 columns]"
      ]
     },
     "execution_count": 167,
     "metadata": {},
     "output_type": "execute_result"
    }
   ],
   "source": [
    "individual.head(3)"
   ]
  },
  {
   "cell_type": "code",
   "execution_count": 168,
   "metadata": {},
   "outputs": [
    {
     "data": {
      "text/html": [
       "<div>\n",
       "<style scoped>\n",
       "    .dataframe tbody tr th:only-of-type {\n",
       "        vertical-align: middle;\n",
       "    }\n",
       "\n",
       "    .dataframe tbody tr th {\n",
       "        vertical-align: top;\n",
       "    }\n",
       "\n",
       "    .dataframe thead th {\n",
       "        text-align: right;\n",
       "    }\n",
       "</style>\n",
       "<table border=\"1\" class=\"dataframe\">\n",
       "  <thead>\n",
       "    <tr style=\"text-align: right;\">\n",
       "      <th></th>\n",
       "      <th>Rank</th>\n",
       "      <th>Total Amount</th>\n",
       "      <th>Organization Name (CN)</th>\n",
       "      <th>Industry</th>\n",
       "      <th>Donation Amount (mil ¥)</th>\n",
       "      <th>Donation Month</th>\n",
       "      <th>Donation Date</th>\n",
       "      <th>Donation Origin (Province)</th>\n",
       "      <th>Donation Origin (City)</th>\n",
       "      <th>Donation Destination (Province)</th>\n",
       "      <th>Donation Destination (City)</th>\n",
       "      <th>Name of Recipient</th>\n",
       "      <th>Name of Recipient (CN)</th>\n",
       "      <th>Donation for what program?</th>\n",
       "      <th>Type of Recipient</th>\n",
       "      <th>Donation Cause</th>\n",
       "      <th>Form of Donation</th>\n",
       "      <th>Pledge? (Y/N)</th>\n",
       "    </tr>\n",
       "  </thead>\n",
       "  <tbody>\n",
       "    <tr>\n",
       "      <th>0</th>\n",
       "      <td>NaN</td>\n",
       "      <td>1054.0</td>\n",
       "      <td>恒大集团</td>\n",
       "      <td>Real Estate</td>\n",
       "      <td>1000.0</td>\n",
       "      <td>1.0</td>\n",
       "      <td>8.0</td>\n",
       "      <td>Guangdong</td>\n",
       "      <td>Guangzhou</td>\n",
       "      <td>Guizhou</td>\n",
       "      <td>Bijie</td>\n",
       "      <td>NaN</td>\n",
       "      <td>贵州大方县政府</td>\n",
       "      <td>并设立10亿元产业扶贫专项贷款担保基金、举办四期共4000人的吸纳贫困家庭劳动力就业培训、同...</td>\n",
       "      <td>Government</td>\n",
       "      <td>Social Welfare &amp; Poverty Alleviation</td>\n",
       "      <td>Cash</td>\n",
       "      <td>N</td>\n",
       "    </tr>\n",
       "    <tr>\n",
       "      <th>1</th>\n",
       "      <td>NaN</td>\n",
       "      <td>850.0</td>\n",
       "      <td>建业集团</td>\n",
       "      <td>NaN</td>\n",
       "      <td>750.0</td>\n",
       "      <td>9.0</td>\n",
       "      <td>5.0</td>\n",
       "      <td>Henan</td>\n",
       "      <td>Zhengzhou</td>\n",
       "      <td>Henan</td>\n",
       "      <td>Zhengzhou</td>\n",
       "      <td>NaN</td>\n",
       "      <td>河南省慈善总会</td>\n",
       "      <td>深入学习贯彻“慈善法”</td>\n",
       "      <td>NaN</td>\n",
       "      <td>Unspecified</td>\n",
       "      <td>Cash</td>\n",
       "      <td>NaN</td>\n",
       "    </tr>\n",
       "    <tr>\n",
       "      <th>2</th>\n",
       "      <td>NaN</td>\n",
       "      <td>500.0</td>\n",
       "      <td>元林基金会</td>\n",
       "      <td>Manufacturing</td>\n",
       "      <td>500.0</td>\n",
       "      <td>2.0</td>\n",
       "      <td>29.0</td>\n",
       "      <td>Jiangsu</td>\n",
       "      <td>Jiangyin</td>\n",
       "      <td>Jiangsu</td>\n",
       "      <td>Jiangyin</td>\n",
       "      <td>Jiangyin Government</td>\n",
       "      <td>江阴市政府</td>\n",
       "      <td>建康复医院</td>\n",
       "      <td>Government</td>\n",
       "      <td>Public Health</td>\n",
       "      <td>Cash</td>\n",
       "      <td>N</td>\n",
       "    </tr>\n",
       "  </tbody>\n",
       "</table>\n",
       "</div>"
      ],
      "text/plain": [
       "   Rank  Total Amount Organization Name (CN)       Industry  \\\n",
       "0   NaN        1054.0                   恒大集团    Real Estate   \n",
       "1   NaN         850.0                   建业集团            NaN   \n",
       "2   NaN         500.0                  元林基金会  Manufacturing   \n",
       "\n",
       "   Donation Amount (mil ¥)  Donation Month  Donation Date  \\\n",
       "0                   1000.0             1.0            8.0   \n",
       "1                    750.0             9.0            5.0   \n",
       "2                    500.0             2.0           29.0   \n",
       "\n",
       "  Donation Origin (Province) Donation Origin (City)  \\\n",
       "0                 Guangdong              Guangzhou    \n",
       "1                      Henan              Zhengzhou   \n",
       "2                    Jiangsu              Jiangyin    \n",
       "\n",
       "  Donation Destination (Province) Donation Destination (City)  \\\n",
       "0                         Guizhou                       Bijie   \n",
       "1                           Henan                   Zhengzhou   \n",
       "2                         Jiangsu                    Jiangyin   \n",
       "\n",
       "     Name of Recipient Name of Recipient (CN)  \\\n",
       "0                  NaN                贵州大方县政府   \n",
       "1                  NaN                河南省慈善总会   \n",
       "2  Jiangyin Government                  江阴市政府   \n",
       "\n",
       "                          Donation for what program? Type of Recipient  \\\n",
       "0  并设立10亿元产业扶贫专项贷款担保基金、举办四期共4000人的吸纳贫困家庭劳动力就业培训、同...        Government   \n",
       "1                                        深入学习贯彻“慈善法”               NaN   \n",
       "2                                              建康复医院        Government   \n",
       "\n",
       "                         Donation Cause Form of Donation Pledge? (Y/N)  \n",
       "0  Social Welfare & Poverty Alleviation             Cash             N  \n",
       "1                           Unspecified             Cash           NaN  \n",
       "2                         Public Health             Cash             N  "
      ]
     },
     "execution_count": 168,
     "metadata": {},
     "output_type": "execute_result"
    }
   ],
   "source": [
    "organization_private.head(3)"
   ]
  },
  {
   "cell_type": "code",
   "execution_count": 169,
   "metadata": {},
   "outputs": [
    {
     "data": {
      "text/html": [
       "<div>\n",
       "<style scoped>\n",
       "    .dataframe tbody tr th:only-of-type {\n",
       "        vertical-align: middle;\n",
       "    }\n",
       "\n",
       "    .dataframe tbody tr th {\n",
       "        vertical-align: top;\n",
       "    }\n",
       "\n",
       "    .dataframe thead th {\n",
       "        text-align: right;\n",
       "    }\n",
       "</style>\n",
       "<table border=\"1\" class=\"dataframe\">\n",
       "  <thead>\n",
       "    <tr style=\"text-align: right;\">\n",
       "      <th></th>\n",
       "      <th>Rank</th>\n",
       "      <th>Total Amount</th>\n",
       "      <th>Organization Name (CN)</th>\n",
       "      <th>Industry</th>\n",
       "      <th>Donation Amount (mil ¥)</th>\n",
       "      <th>Donation Month</th>\n",
       "      <th>Donation Date</th>\n",
       "      <th>Donation Origin (Province)</th>\n",
       "      <th>Donation Origin (City)</th>\n",
       "      <th>Donation Destination (Province)</th>\n",
       "      <th>Donation Destination (City)</th>\n",
       "      <th>Name of Recipient</th>\n",
       "      <th>Name of Recipient (CN)</th>\n",
       "      <th>Donation for what program?</th>\n",
       "      <th>Type of Recipient</th>\n",
       "      <th>Donation Cause</th>\n",
       "      <th>Donation Vehicle</th>\n",
       "      <th>Form of Donation</th>\n",
       "      <th>Pledge? (Y/N)</th>\n",
       "    </tr>\n",
       "  </thead>\n",
       "  <tbody>\n",
       "    <tr>\n",
       "      <th>0</th>\n",
       "      <td>NaN</td>\n",
       "      <td>570.4</td>\n",
       "      <td>中国长江三峡集团公司</td>\n",
       "      <td>NaN</td>\n",
       "      <td>2.0</td>\n",
       "      <td>NaN</td>\n",
       "      <td>NaN</td>\n",
       "      <td>NaN</td>\n",
       "      <td>NaN</td>\n",
       "      <td>NaN</td>\n",
       "      <td>NaN</td>\n",
       "      <td>NaN</td>\n",
       "      <td>屏山县,宜宾县,贫困村,社区</td>\n",
       "      <td>扶贫</td>\n",
       "      <td>Government</td>\n",
       "      <td>Social Welfare &amp; Poverty Alleviation</td>\n",
       "      <td>Corporation</td>\n",
       "      <td>Cash</td>\n",
       "      <td>N</td>\n",
       "    </tr>\n",
       "    <tr>\n",
       "      <th>1</th>\n",
       "      <td>NaN</td>\n",
       "      <td>570.4</td>\n",
       "      <td>中国长江三峡集团公司</td>\n",
       "      <td>NaN</td>\n",
       "      <td>5.0</td>\n",
       "      <td>NaN</td>\n",
       "      <td>NaN</td>\n",
       "      <td>NaN</td>\n",
       "      <td>NaN</td>\n",
       "      <td>NaN</td>\n",
       "      <td>NaN</td>\n",
       "      <td>NaN</td>\n",
       "      <td>福州市、莆田市灾区</td>\n",
       "      <td>救灾</td>\n",
       "      <td>Government</td>\n",
       "      <td>Disaster Relief</td>\n",
       "      <td>Corporation</td>\n",
       "      <td>Cash</td>\n",
       "      <td>N</td>\n",
       "    </tr>\n",
       "    <tr>\n",
       "      <th>2</th>\n",
       "      <td>NaN</td>\n",
       "      <td>570.4</td>\n",
       "      <td>中国长江三峡集团公司</td>\n",
       "      <td>NaN</td>\n",
       "      <td>5.0</td>\n",
       "      <td>NaN</td>\n",
       "      <td>NaN</td>\n",
       "      <td>NaN</td>\n",
       "      <td>NaN</td>\n",
       "      <td>NaN</td>\n",
       "      <td>NaN</td>\n",
       "      <td>NaN</td>\n",
       "      <td>江苏、福建灾区</td>\n",
       "      <td>救灾</td>\n",
       "      <td>Government</td>\n",
       "      <td>Disaster Relief</td>\n",
       "      <td>Corporation</td>\n",
       "      <td>Cash</td>\n",
       "      <td>N</td>\n",
       "    </tr>\n",
       "  </tbody>\n",
       "</table>\n",
       "</div>"
      ],
      "text/plain": [
       "   Rank  Total Amount Organization Name (CN) Industry  \\\n",
       "0   NaN         570.4             中国长江三峡集团公司      NaN   \n",
       "1   NaN         570.4             中国长江三峡集团公司      NaN   \n",
       "2   NaN         570.4             中国长江三峡集团公司      NaN   \n",
       "\n",
       "   Donation Amount (mil ¥)  Donation Month  Donation Date  \\\n",
       "0                      2.0             NaN            NaN   \n",
       "1                      5.0             NaN            NaN   \n",
       "2                      5.0             NaN            NaN   \n",
       "\n",
       "  Donation Origin (Province) Donation Origin (City)  \\\n",
       "0                        NaN                    NaN   \n",
       "1                        NaN                    NaN   \n",
       "2                        NaN                    NaN   \n",
       "\n",
       "  Donation Destination (Province) Donation Destination (City)  \\\n",
       "0                             NaN                         NaN   \n",
       "1                             NaN                         NaN   \n",
       "2                             NaN                         NaN   \n",
       "\n",
       "  Name of Recipient Name of Recipient (CN) Donation for what program?  \\\n",
       "0               NaN         屏山县,宜宾县,贫困村,社区                         扶贫   \n",
       "1               NaN              福州市、莆田市灾区                         救灾   \n",
       "2               NaN                江苏、福建灾区                         救灾   \n",
       "\n",
       "  Type of Recipient                        Donation Cause Donation Vehicle  \\\n",
       "0        Government  Social Welfare & Poverty Alleviation      Corporation   \n",
       "1        Government                       Disaster Relief      Corporation   \n",
       "2        Government                       Disaster Relief      Corporation   \n",
       "\n",
       "  Form of Donation Pledge? (Y/N)  \n",
       "0             Cash             N  \n",
       "1             Cash             N  \n",
       "2             Cash             N  "
      ]
     },
     "execution_count": 169,
     "metadata": {},
     "output_type": "execute_result"
    }
   ],
   "source": [
    "organization_public.head(3)"
   ]
  },
  {
   "attachments": {},
   "cell_type": "markdown",
   "metadata": {},
   "source": [
    "### 3.  Calculate the rank for each donor in the first three sheet. Sort the data in ascending order by the rank. "
   ]
  },
  {
   "cell_type": "code",
   "execution_count": 170,
   "metadata": {},
   "outputs": [],
   "source": [
    "individual_grouped = individual.groupby(['Name (CN)'])['Donation Amount (mil ¥)'].sum().reset_index()\n"
   ]
  },
  {
   "cell_type": "code",
   "execution_count": 171,
   "metadata": {},
   "outputs": [],
   "source": [
    "individual_grouped['Rank'] = individual_grouped['Donation Amount (mil ¥)'].rank(method='dense', ascending=False)"
   ]
  },
  {
   "cell_type": "code",
   "execution_count": 172,
   "metadata": {},
   "outputs": [
    {
     "data": {
      "text/html": [
       "<div>\n",
       "<style scoped>\n",
       "    .dataframe tbody tr th:only-of-type {\n",
       "        vertical-align: middle;\n",
       "    }\n",
       "\n",
       "    .dataframe tbody tr th {\n",
       "        vertical-align: top;\n",
       "    }\n",
       "\n",
       "    .dataframe thead th {\n",
       "        text-align: right;\n",
       "    }\n",
       "</style>\n",
       "<table border=\"1\" class=\"dataframe\">\n",
       "  <thead>\n",
       "    <tr style=\"text-align: right;\">\n",
       "      <th></th>\n",
       "      <th>Name (CN)</th>\n",
       "      <th>Donation Amount (mil ¥)</th>\n",
       "      <th>Rank</th>\n",
       "    </tr>\n",
       "  </thead>\n",
       "  <tbody>\n",
       "    <tr>\n",
       "      <th>0</th>\n",
       "      <td>JACKIE XIAOBEI WU</td>\n",
       "      <td>1.0</td>\n",
       "      <td>47.0</td>\n",
       "    </tr>\n",
       "    <tr>\n",
       "      <th>1</th>\n",
       "      <td>丁韶华</td>\n",
       "      <td>10.0</td>\n",
       "      <td>16.0</td>\n",
       "    </tr>\n",
       "    <tr>\n",
       "      <th>2</th>\n",
       "      <td>丘文漳</td>\n",
       "      <td>0.3</td>\n",
       "      <td>62.0</td>\n",
       "    </tr>\n",
       "  </tbody>\n",
       "</table>\n",
       "</div>"
      ],
      "text/plain": [
       "           Name (CN)  Donation Amount (mil ¥)  Rank\n",
       "0  JACKIE XIAOBEI WU                      1.0  47.0\n",
       "1                丁韶华                     10.0  16.0\n",
       "2                丘文漳                      0.3  62.0"
      ]
     },
     "execution_count": 172,
     "metadata": {},
     "output_type": "execute_result"
    }
   ],
   "source": [
    "individual_grouped.head(3)"
   ]
  },
  {
   "cell_type": "code",
   "execution_count": 173,
   "metadata": {},
   "outputs": [
    {
     "data": {
      "text/html": [
       "<div>\n",
       "<style scoped>\n",
       "    .dataframe tbody tr th:only-of-type {\n",
       "        vertical-align: middle;\n",
       "    }\n",
       "\n",
       "    .dataframe tbody tr th {\n",
       "        vertical-align: top;\n",
       "    }\n",
       "\n",
       "    .dataframe thead th {\n",
       "        text-align: right;\n",
       "    }\n",
       "</style>\n",
       "<table border=\"1\" class=\"dataframe\">\n",
       "  <thead>\n",
       "    <tr style=\"text-align: right;\">\n",
       "      <th></th>\n",
       "      <th>Name (CN)</th>\n",
       "      <th>Rank</th>\n",
       "      <th>Total Amount</th>\n",
       "      <th>Year born</th>\n",
       "      <th>Age</th>\n",
       "      <th>Sex</th>\n",
       "      <th>Industry</th>\n",
       "      <th>Donation Amount (mil ¥)</th>\n",
       "      <th>Donation Month</th>\n",
       "      <th>Donation Date</th>\n",
       "      <th>...</th>\n",
       "      <th>Donation Destination (Province)</th>\n",
       "      <th>Donation Destination (City)</th>\n",
       "      <th>Name of Recipient</th>\n",
       "      <th>Name of Recipient (CN)</th>\n",
       "      <th>Donation for what program?</th>\n",
       "      <th>Type of Recipient</th>\n",
       "      <th>Donation Cause</th>\n",
       "      <th>Donation Vehicle</th>\n",
       "      <th>Form of Donation</th>\n",
       "      <th>Pledge? (Y/N)</th>\n",
       "    </tr>\n",
       "  </thead>\n",
       "  <tbody>\n",
       "    <tr>\n",
       "      <th>0</th>\n",
       "      <td>陈天桥</td>\n",
       "      <td>1.0</td>\n",
       "      <td>747.500000</td>\n",
       "      <td>1974</td>\n",
       "      <td>49</td>\n",
       "      <td>M</td>\n",
       "      <td>Software and Internet</td>\n",
       "      <td>747.500000</td>\n",
       "      <td>12.0</td>\n",
       "      <td>7.0</td>\n",
       "      <td>...</td>\n",
       "      <td>CA, USA</td>\n",
       "      <td>Pasadena</td>\n",
       "      <td>NaN</td>\n",
       "      <td>加州理工学院</td>\n",
       "      <td>创建神经科学研究所</td>\n",
       "      <td>University or University Foundation</td>\n",
       "      <td>Education</td>\n",
       "      <td>Individual</td>\n",
       "      <td>Cash</td>\n",
       "      <td>N</td>\n",
       "    </tr>\n",
       "    <tr>\n",
       "      <th>1</th>\n",
       "      <td>曹德旺</td>\n",
       "      <td>2.0</td>\n",
       "      <td>250.000000</td>\n",
       "      <td>1985</td>\n",
       "      <td>38</td>\n",
       "      <td>NaN</td>\n",
       "      <td>Manufacturing</td>\n",
       "      <td>250.000000</td>\n",
       "      <td>11.0</td>\n",
       "      <td>27.0</td>\n",
       "      <td>...</td>\n",
       "      <td>NaN</td>\n",
       "      <td>NaN</td>\n",
       "      <td>NaN</td>\n",
       "      <td>黄檗山万福禅寺</td>\n",
       "      <td>重兴黄檗山万福禅寺</td>\n",
       "      <td>NGO</td>\n",
       "      <td>Culture</td>\n",
       "      <td>NaN</td>\n",
       "      <td>Cash</td>\n",
       "      <td>N</td>\n",
       "    </tr>\n",
       "    <tr>\n",
       "      <th>2</th>\n",
       "      <td>吴少勋</td>\n",
       "      <td>3.0</td>\n",
       "      <td>114.000000</td>\n",
       "      <td>1961</td>\n",
       "      <td>62</td>\n",
       "      <td>M</td>\n",
       "      <td>Consumer</td>\n",
       "      <td>114.000000</td>\n",
       "      <td>1.0</td>\n",
       "      <td>28.0</td>\n",
       "      <td>...</td>\n",
       "      <td>Hubei</td>\n",
       "      <td>Wuhan</td>\n",
       "      <td>NaN</td>\n",
       "      <td>湖北慈善总会</td>\n",
       "      <td>大冶体育公园</td>\n",
       "      <td>Government Charitable Organization</td>\n",
       "      <td>Social Welfare &amp; Poverty Alleviation</td>\n",
       "      <td>Individual</td>\n",
       "      <td>Cash</td>\n",
       "      <td>N</td>\n",
       "    </tr>\n",
       "    <tr>\n",
       "      <th>3</th>\n",
       "      <td>周锦霆</td>\n",
       "      <td>5.0</td>\n",
       "      <td>100.000000</td>\n",
       "      <td>1953</td>\n",
       "      <td>70</td>\n",
       "      <td>M</td>\n",
       "      <td>Software and Internet</td>\n",
       "      <td>100.000000</td>\n",
       "      <td>3.0</td>\n",
       "      <td>29.0</td>\n",
       "      <td>...</td>\n",
       "      <td>Sichuan</td>\n",
       "      <td>Chengdu</td>\n",
       "      <td>NaN</td>\n",
       "      <td>电子科技大学</td>\n",
       "      <td>荷福研究院</td>\n",
       "      <td>University or University Foundation</td>\n",
       "      <td>Education</td>\n",
       "      <td>Individual</td>\n",
       "      <td>Cash</td>\n",
       "      <td>N</td>\n",
       "    </tr>\n",
       "    <tr>\n",
       "      <th>4</th>\n",
       "      <td>朱永宁</td>\n",
       "      <td>5.0</td>\n",
       "      <td>100.000000</td>\n",
       "      <td>1966</td>\n",
       "      <td>57</td>\n",
       "      <td>M</td>\n",
       "      <td>Software and Internet</td>\n",
       "      <td>100.000000</td>\n",
       "      <td>11.0</td>\n",
       "      <td>28.0</td>\n",
       "      <td>...</td>\n",
       "      <td>Jiangsu</td>\n",
       "      <td>Nanjing</td>\n",
       "      <td>NaN</td>\n",
       "      <td>南京大学</td>\n",
       "      <td>南京大学博物馆</td>\n",
       "      <td>University or University Foundation</td>\n",
       "      <td>Education</td>\n",
       "      <td>Individual</td>\n",
       "      <td>Cash</td>\n",
       "      <td>N</td>\n",
       "    </tr>\n",
       "    <tr>\n",
       "      <th>5</th>\n",
       "      <td>张宗真</td>\n",
       "      <td>5.0</td>\n",
       "      <td>100.000000</td>\n",
       "      <td>1953</td>\n",
       "      <td>70</td>\n",
       "      <td>M</td>\n",
       "      <td>Real Estate</td>\n",
       "      <td>100.000000</td>\n",
       "      <td>6.0</td>\n",
       "      <td>16.0</td>\n",
       "      <td>...</td>\n",
       "      <td>Fujian</td>\n",
       "      <td>Fuzhou</td>\n",
       "      <td>NaN</td>\n",
       "      <td>福建承群慈善基金</td>\n",
       "      <td>成立“承群基金会”</td>\n",
       "      <td>Non-Government Foundation</td>\n",
       "      <td>Disaster Relief</td>\n",
       "      <td>Individual</td>\n",
       "      <td>Cash</td>\n",
       "      <td>N</td>\n",
       "    </tr>\n",
       "    <tr>\n",
       "      <th>6</th>\n",
       "      <td>吴亚军</td>\n",
       "      <td>5.0</td>\n",
       "      <td>100.000000</td>\n",
       "      <td>1971</td>\n",
       "      <td>52</td>\n",
       "      <td>F</td>\n",
       "      <td>Real Estate</td>\n",
       "      <td>100.000000</td>\n",
       "      <td>10.0</td>\n",
       "      <td>15.0</td>\n",
       "      <td>...</td>\n",
       "      <td>Shaanxi</td>\n",
       "      <td>Xi'an</td>\n",
       "      <td>Northwestern Polytechnical University</td>\n",
       "      <td>西北工业大学</td>\n",
       "      <td>西北工业大学校友讲席教授基金</td>\n",
       "      <td>University or University Foundation</td>\n",
       "      <td>Education</td>\n",
       "      <td>Individual</td>\n",
       "      <td>Cash</td>\n",
       "      <td>N</td>\n",
       "    </tr>\n",
       "    <tr>\n",
       "      <th>7</th>\n",
       "      <td>许健康</td>\n",
       "      <td>5.0</td>\n",
       "      <td>100.000000</td>\n",
       "      <td>1955</td>\n",
       "      <td>68</td>\n",
       "      <td>M</td>\n",
       "      <td>Real Estate</td>\n",
       "      <td>100.000000</td>\n",
       "      <td>4.0</td>\n",
       "      <td>6.0</td>\n",
       "      <td>...</td>\n",
       "      <td>Fujian</td>\n",
       "      <td>Jinjiang</td>\n",
       "      <td>NaN</td>\n",
       "      <td>福建省晋江市安海镇溪边村</td>\n",
       "      <td>“美丽乡村”建设及实施可持续发展项目</td>\n",
       "      <td>Government</td>\n",
       "      <td>Social Welfare &amp; Poverty Alleviation</td>\n",
       "      <td>Individual</td>\n",
       "      <td>Cash</td>\n",
       "      <td>N</td>\n",
       "    </tr>\n",
       "    <tr>\n",
       "      <th>8</th>\n",
       "      <td>马化腾</td>\n",
       "      <td>4.0</td>\n",
       "      <td>107.871963</td>\n",
       "      <td>1968</td>\n",
       "      <td>55</td>\n",
       "      <td>M</td>\n",
       "      <td>Software and Internet</td>\n",
       "      <td>107.871963</td>\n",
       "      <td>12.0</td>\n",
       "      <td>5.0</td>\n",
       "      <td>...</td>\n",
       "      <td>Hubei</td>\n",
       "      <td>Wuhan</td>\n",
       "      <td>Wuhan College</td>\n",
       "      <td>武汉学院</td>\n",
       "      <td>湖北一丹大学教育发展基金会</td>\n",
       "      <td>University or University Foundation</td>\n",
       "      <td>Education</td>\n",
       "      <td>Individual</td>\n",
       "      <td>Cash</td>\n",
       "      <td>N</td>\n",
       "    </tr>\n",
       "    <tr>\n",
       "      <th>9</th>\n",
       "      <td>纪海鹏</td>\n",
       "      <td>5.0</td>\n",
       "      <td>100.000000</td>\n",
       "      <td>1960</td>\n",
       "      <td>63</td>\n",
       "      <td>M</td>\n",
       "      <td>Real Estate</td>\n",
       "      <td>100.000000</td>\n",
       "      <td>2.0</td>\n",
       "      <td>2.0</td>\n",
       "      <td>...</td>\n",
       "      <td>Guangdong</td>\n",
       "      <td>Guangzhou</td>\n",
       "      <td>NaN</td>\n",
       "      <td>龙光慈善基金会</td>\n",
       "      <td>NaN</td>\n",
       "      <td>Non-Government Foundation</td>\n",
       "      <td>Unspecified</td>\n",
       "      <td>Individual</td>\n",
       "      <td>Cash</td>\n",
       "      <td>Y</td>\n",
       "    </tr>\n",
       "  </tbody>\n",
       "</table>\n",
       "<p>10 rows × 22 columns</p>\n",
       "</div>"
      ],
      "text/plain": [
       "  Name (CN)  Rank  Total Amount  Year born  Age  Sex               Industry  \\\n",
       "0       陈天桥   1.0    747.500000       1974   49    M  Software and Internet   \n",
       "1       曹德旺   2.0    250.000000       1985   38  NaN          Manufacturing   \n",
       "2       吴少勋   3.0    114.000000       1961   62    M               Consumer   \n",
       "3       周锦霆   5.0    100.000000       1953   70    M  Software and Internet   \n",
       "4       朱永宁   5.0    100.000000       1966   57    M  Software and Internet   \n",
       "5       张宗真   5.0    100.000000       1953   70    M            Real Estate   \n",
       "6       吴亚军   5.0    100.000000       1971   52    F            Real Estate   \n",
       "7       许健康   5.0    100.000000       1955   68    M            Real Estate   \n",
       "8       马化腾   4.0    107.871963       1968   55    M  Software and Internet   \n",
       "9       纪海鹏   5.0    100.000000       1960   63    M            Real Estate   \n",
       "\n",
       "   Donation Amount (mil ¥)  Donation Month  Donation Date  ...  \\\n",
       "0               747.500000            12.0            7.0  ...   \n",
       "1               250.000000            11.0           27.0  ...   \n",
       "2               114.000000             1.0           28.0  ...   \n",
       "3               100.000000             3.0           29.0  ...   \n",
       "4               100.000000            11.0           28.0  ...   \n",
       "5               100.000000             6.0           16.0  ...   \n",
       "6               100.000000            10.0           15.0  ...   \n",
       "7               100.000000             4.0            6.0  ...   \n",
       "8               107.871963            12.0            5.0  ...   \n",
       "9               100.000000             2.0            2.0  ...   \n",
       "\n",
       "  Donation Destination (Province) Donation Destination (City)  \\\n",
       "0                         CA, USA                    Pasadena   \n",
       "1                             NaN                         NaN   \n",
       "2                           Hubei                       Wuhan   \n",
       "3                         Sichuan                     Chengdu   \n",
       "4                         Jiangsu                     Nanjing   \n",
       "5                          Fujian                      Fuzhou   \n",
       "6                         Shaanxi                       Xi'an   \n",
       "7                          Fujian                    Jinjiang   \n",
       "8                           Hubei                       Wuhan   \n",
       "9                       Guangdong                   Guangzhou   \n",
       "\n",
       "                       Name of Recipient Name of Recipient (CN)  \\\n",
       "0                                    NaN                 加州理工学院   \n",
       "1                                    NaN                黄檗山万福禅寺   \n",
       "2                                    NaN                 湖北慈善总会   \n",
       "3                                    NaN                 电子科技大学   \n",
       "4                                    NaN                   南京大学   \n",
       "5                                    NaN               福建承群慈善基金   \n",
       "6  Northwestern Polytechnical University                 西北工业大学   \n",
       "7                                    NaN           福建省晋江市安海镇溪边村   \n",
       "8                          Wuhan College                   武汉学院   \n",
       "9                                    NaN                龙光慈善基金会   \n",
       "\n",
       "  Donation for what program?                    Type of Recipient  \\\n",
       "0                  创建神经科学研究所  University or University Foundation   \n",
       "1                  重兴黄檗山万福禅寺                                  NGO   \n",
       "2                     大冶体育公园   Government Charitable Organization   \n",
       "3                      荷福研究院  University or University Foundation   \n",
       "4                    南京大学博物馆  University or University Foundation   \n",
       "5                  成立“承群基金会”            Non-Government Foundation   \n",
       "6             西北工业大学校友讲席教授基金  University or University Foundation   \n",
       "7         “美丽乡村”建设及实施可持续发展项目                           Government   \n",
       "8              湖北一丹大学教育发展基金会  University or University Foundation   \n",
       "9                        NaN            Non-Government Foundation   \n",
       "\n",
       "                         Donation Cause Donation Vehicle Form of Donation  \\\n",
       "0                             Education       Individual             Cash   \n",
       "1                               Culture              NaN             Cash   \n",
       "2  Social Welfare & Poverty Alleviation       Individual             Cash   \n",
       "3                             Education       Individual             Cash   \n",
       "4                             Education       Individual             Cash   \n",
       "5                       Disaster Relief       Individual             Cash   \n",
       "6                             Education       Individual             Cash   \n",
       "7  Social Welfare & Poverty Alleviation       Individual             Cash   \n",
       "8                             Education       Individual             Cash   \n",
       "9                           Unspecified       Individual             Cash   \n",
       "\n",
       "  Pledge? (Y/N)  \n",
       "0             N  \n",
       "1             N  \n",
       "2             N  \n",
       "3             N  \n",
       "4             N  \n",
       "5             N  \n",
       "6             N  \n",
       "7             N  \n",
       "8             N  \n",
       "9             Y  \n",
       "\n",
       "[10 rows x 22 columns]"
      ]
     },
     "execution_count": 173,
     "metadata": {},
     "output_type": "execute_result"
    }
   ],
   "source": [
    "individual.set_index('Name (CN)', inplace=True)\n",
    "individual_grouped.set_index('Name (CN)', inplace=True)\n",
    "individual.update(individual_grouped)\n",
    "individual.reset_index(inplace=True)\n",
    "individual.head(10)"
   ]
  },
  {
   "cell_type": "code",
   "execution_count": 174,
   "metadata": {},
   "outputs": [
    {
     "data": {
      "text/html": [
       "<div>\n",
       "<style scoped>\n",
       "    .dataframe tbody tr th:only-of-type {\n",
       "        vertical-align: middle;\n",
       "    }\n",
       "\n",
       "    .dataframe tbody tr th {\n",
       "        vertical-align: top;\n",
       "    }\n",
       "\n",
       "    .dataframe thead th {\n",
       "        text-align: right;\n",
       "    }\n",
       "</style>\n",
       "<table border=\"1\" class=\"dataframe\">\n",
       "  <thead>\n",
       "    <tr style=\"text-align: right;\">\n",
       "      <th></th>\n",
       "      <th>Organization Name (CN)</th>\n",
       "      <th>Rank</th>\n",
       "      <th>Total Amount</th>\n",
       "      <th>Industry</th>\n",
       "      <th>Donation Amount (mil ¥)</th>\n",
       "      <th>Donation Month</th>\n",
       "      <th>Donation Date</th>\n",
       "      <th>Donation Origin (Province)</th>\n",
       "      <th>Donation Origin (City)</th>\n",
       "      <th>Donation Destination (Province)</th>\n",
       "      <th>Donation Destination (City)</th>\n",
       "      <th>Name of Recipient</th>\n",
       "      <th>Name of Recipient (CN)</th>\n",
       "      <th>Donation for what program?</th>\n",
       "      <th>Type of Recipient</th>\n",
       "      <th>Donation Cause</th>\n",
       "      <th>Donation Vehicle</th>\n",
       "      <th>Form of Donation</th>\n",
       "      <th>Pledge? (Y/N)</th>\n",
       "    </tr>\n",
       "  </thead>\n",
       "  <tbody>\n",
       "    <tr>\n",
       "      <th>0</th>\n",
       "      <td>中国长江三峡集团公司</td>\n",
       "      <td>1.0</td>\n",
       "      <td>570.4</td>\n",
       "      <td>NaN</td>\n",
       "      <td>570.4</td>\n",
       "      <td>NaN</td>\n",
       "      <td>NaN</td>\n",
       "      <td>NaN</td>\n",
       "      <td>NaN</td>\n",
       "      <td>NaN</td>\n",
       "      <td>NaN</td>\n",
       "      <td>NaN</td>\n",
       "      <td>屏山县,宜宾县,贫困村,社区</td>\n",
       "      <td>扶贫</td>\n",
       "      <td>Government</td>\n",
       "      <td>Social Welfare &amp; Poverty Alleviation</td>\n",
       "      <td>Corporation</td>\n",
       "      <td>Cash</td>\n",
       "      <td>N</td>\n",
       "    </tr>\n",
       "    <tr>\n",
       "      <th>1</th>\n",
       "      <td>中国长江三峡集团公司</td>\n",
       "      <td>1.0</td>\n",
       "      <td>570.4</td>\n",
       "      <td>NaN</td>\n",
       "      <td>570.4</td>\n",
       "      <td>NaN</td>\n",
       "      <td>NaN</td>\n",
       "      <td>NaN</td>\n",
       "      <td>NaN</td>\n",
       "      <td>NaN</td>\n",
       "      <td>NaN</td>\n",
       "      <td>NaN</td>\n",
       "      <td>福州市、莆田市灾区</td>\n",
       "      <td>救灾</td>\n",
       "      <td>Government</td>\n",
       "      <td>Disaster Relief</td>\n",
       "      <td>Corporation</td>\n",
       "      <td>Cash</td>\n",
       "      <td>N</td>\n",
       "    </tr>\n",
       "    <tr>\n",
       "      <th>2</th>\n",
       "      <td>中国长江三峡集团公司</td>\n",
       "      <td>1.0</td>\n",
       "      <td>570.4</td>\n",
       "      <td>NaN</td>\n",
       "      <td>570.4</td>\n",
       "      <td>NaN</td>\n",
       "      <td>NaN</td>\n",
       "      <td>NaN</td>\n",
       "      <td>NaN</td>\n",
       "      <td>NaN</td>\n",
       "      <td>NaN</td>\n",
       "      <td>NaN</td>\n",
       "      <td>江苏、福建灾区</td>\n",
       "      <td>救灾</td>\n",
       "      <td>Government</td>\n",
       "      <td>Disaster Relief</td>\n",
       "      <td>Corporation</td>\n",
       "      <td>Cash</td>\n",
       "      <td>N</td>\n",
       "    </tr>\n",
       "    <tr>\n",
       "      <th>3</th>\n",
       "      <td>中国长江三峡集团公司</td>\n",
       "      <td>1.0</td>\n",
       "      <td>570.4</td>\n",
       "      <td>NaN</td>\n",
       "      <td>570.4</td>\n",
       "      <td>NaN</td>\n",
       "      <td>NaN</td>\n",
       "      <td>NaN</td>\n",
       "      <td>NaN</td>\n",
       "      <td>NaN</td>\n",
       "      <td>NaN</td>\n",
       "      <td>NaN</td>\n",
       "      <td>云南扶贫</td>\n",
       "      <td>扶贫</td>\n",
       "      <td>Government</td>\n",
       "      <td>Social Welfare &amp; Poverty Alleviation</td>\n",
       "      <td>Corporation</td>\n",
       "      <td>Cash</td>\n",
       "      <td>N</td>\n",
       "    </tr>\n",
       "    <tr>\n",
       "      <th>4</th>\n",
       "      <td>中国长江三峡集团公司</td>\n",
       "      <td>1.0</td>\n",
       "      <td>570.4</td>\n",
       "      <td>NaN</td>\n",
       "      <td>570.4</td>\n",
       "      <td>NaN</td>\n",
       "      <td>NaN</td>\n",
       "      <td>NaN</td>\n",
       "      <td>NaN</td>\n",
       "      <td>NaN</td>\n",
       "      <td>NaN</td>\n",
       "      <td>NaN</td>\n",
       "      <td>湖北灾区,</td>\n",
       "      <td>救灾</td>\n",
       "      <td>Government</td>\n",
       "      <td>Disaster Relief</td>\n",
       "      <td>Corporation</td>\n",
       "      <td>Cash</td>\n",
       "      <td>N</td>\n",
       "    </tr>\n",
       "    <tr>\n",
       "      <th>5</th>\n",
       "      <td>中国长江三峡集团公司</td>\n",
       "      <td>1.0</td>\n",
       "      <td>570.4</td>\n",
       "      <td>NaN</td>\n",
       "      <td>570.4</td>\n",
       "      <td>NaN</td>\n",
       "      <td>NaN</td>\n",
       "      <td>NaN</td>\n",
       "      <td>NaN</td>\n",
       "      <td>NaN</td>\n",
       "      <td>NaN</td>\n",
       "      <td>NaN</td>\n",
       "      <td>四川宜宾屏山扶贫</td>\n",
       "      <td>扶贫</td>\n",
       "      <td>Government</td>\n",
       "      <td>Social Welfare &amp; Poverty Alleviation</td>\n",
       "      <td>Corporation</td>\n",
       "      <td>Cash</td>\n",
       "      <td>N</td>\n",
       "    </tr>\n",
       "    <tr>\n",
       "      <th>6</th>\n",
       "      <td>茅台集团</td>\n",
       "      <td>2.0</td>\n",
       "      <td>100.0</td>\n",
       "      <td>NaN</td>\n",
       "      <td>100.0</td>\n",
       "      <td>6.0</td>\n",
       "      <td>13.0</td>\n",
       "      <td>Guizhou</td>\n",
       "      <td>Zunyi</td>\n",
       "      <td>NaN</td>\n",
       "      <td>NaN</td>\n",
       "      <td>NaN</td>\n",
       "      <td>20000名贫困家庭的大学新生</td>\n",
       "      <td>国酒茅台•国之栋梁—— 2016希望工程圆梦行动</td>\n",
       "      <td>Individual(s)</td>\n",
       "      <td>Education</td>\n",
       "      <td>Corporate Foundation</td>\n",
       "      <td>Cash</td>\n",
       "      <td>N</td>\n",
       "    </tr>\n",
       "    <tr>\n",
       "      <th>7</th>\n",
       "      <td>浙江中烟工业有限责任公司</td>\n",
       "      <td>3.0</td>\n",
       "      <td>97.0</td>\n",
       "      <td>NaN</td>\n",
       "      <td>97.0</td>\n",
       "      <td>NaN</td>\n",
       "      <td>NaN</td>\n",
       "      <td>NaN</td>\n",
       "      <td>NaN</td>\n",
       "      <td>NaN</td>\n",
       "      <td>NaN</td>\n",
       "      <td>NaN</td>\n",
       "      <td>浙江大学教育基金会</td>\n",
       "      <td>浙江大学紫金港校区二期建设</td>\n",
       "      <td>University or University Foundation</td>\n",
       "      <td>Education</td>\n",
       "      <td>Corporation</td>\n",
       "      <td>Cash</td>\n",
       "      <td>N</td>\n",
       "    </tr>\n",
       "    <tr>\n",
       "      <th>8</th>\n",
       "      <td>浙江中烟工业有限责任公司</td>\n",
       "      <td>3.0</td>\n",
       "      <td>97.0</td>\n",
       "      <td>NaN</td>\n",
       "      <td>97.0</td>\n",
       "      <td>NaN</td>\n",
       "      <td>NaN</td>\n",
       "      <td>NaN</td>\n",
       "      <td>NaN</td>\n",
       "      <td>NaN</td>\n",
       "      <td>NaN</td>\n",
       "      <td>NaN</td>\n",
       "      <td>浙江大学教育基金会</td>\n",
       "      <td>高分子系吸附分离材料联合实验室</td>\n",
       "      <td>University or University Foundation</td>\n",
       "      <td>Education</td>\n",
       "      <td>Corporation</td>\n",
       "      <td>Cash</td>\n",
       "      <td>N</td>\n",
       "    </tr>\n",
       "    <tr>\n",
       "      <th>9</th>\n",
       "      <td>浙江中烟工业有限责任公司</td>\n",
       "      <td>3.0</td>\n",
       "      <td>97.0</td>\n",
       "      <td>NaN</td>\n",
       "      <td>97.0</td>\n",
       "      <td>NaN</td>\n",
       "      <td>NaN</td>\n",
       "      <td>NaN</td>\n",
       "      <td>NaN</td>\n",
       "      <td>NaN</td>\n",
       "      <td>NaN</td>\n",
       "      <td>NaN</td>\n",
       "      <td>浙江大学教育基金会</td>\n",
       "      <td>软件学院人才培养与学科建设专项基金</td>\n",
       "      <td>University or University Foundation</td>\n",
       "      <td>Education</td>\n",
       "      <td>Corporation</td>\n",
       "      <td>Cash</td>\n",
       "      <td>N</td>\n",
       "    </tr>\n",
       "  </tbody>\n",
       "</table>\n",
       "</div>"
      ],
      "text/plain": [
       "  Organization Name (CN)  Rank  Total Amount Industry  \\\n",
       "0             中国长江三峡集团公司   1.0         570.4      NaN   \n",
       "1             中国长江三峡集团公司   1.0         570.4      NaN   \n",
       "2             中国长江三峡集团公司   1.0         570.4      NaN   \n",
       "3             中国长江三峡集团公司   1.0         570.4      NaN   \n",
       "4             中国长江三峡集团公司   1.0         570.4      NaN   \n",
       "5             中国长江三峡集团公司   1.0         570.4      NaN   \n",
       "6                   茅台集团   2.0         100.0      NaN   \n",
       "7           浙江中烟工业有限责任公司   3.0          97.0      NaN   \n",
       "8           浙江中烟工业有限责任公司   3.0          97.0      NaN   \n",
       "9           浙江中烟工业有限责任公司   3.0          97.0      NaN   \n",
       "\n",
       "   Donation Amount (mil ¥)  Donation Month  Donation Date  \\\n",
       "0                    570.4             NaN            NaN   \n",
       "1                    570.4             NaN            NaN   \n",
       "2                    570.4             NaN            NaN   \n",
       "3                    570.4             NaN            NaN   \n",
       "4                    570.4             NaN            NaN   \n",
       "5                    570.4             NaN            NaN   \n",
       "6                    100.0             6.0           13.0   \n",
       "7                     97.0             NaN            NaN   \n",
       "8                     97.0             NaN            NaN   \n",
       "9                     97.0             NaN            NaN   \n",
       "\n",
       "  Donation Origin (Province) Donation Origin (City)  \\\n",
       "0                        NaN                    NaN   \n",
       "1                        NaN                    NaN   \n",
       "2                        NaN                    NaN   \n",
       "3                        NaN                    NaN   \n",
       "4                        NaN                    NaN   \n",
       "5                        NaN                    NaN   \n",
       "6                    Guizhou                  Zunyi   \n",
       "7                        NaN                    NaN   \n",
       "8                        NaN                    NaN   \n",
       "9                        NaN                    NaN   \n",
       "\n",
       "  Donation Destination (Province) Donation Destination (City)  \\\n",
       "0                             NaN                         NaN   \n",
       "1                             NaN                         NaN   \n",
       "2                             NaN                         NaN   \n",
       "3                             NaN                         NaN   \n",
       "4                             NaN                         NaN   \n",
       "5                             NaN                         NaN   \n",
       "6                             NaN                         NaN   \n",
       "7                             NaN                         NaN   \n",
       "8                             NaN                         NaN   \n",
       "9                             NaN                         NaN   \n",
       "\n",
       "  Name of Recipient Name of Recipient (CN) Donation for what program?  \\\n",
       "0               NaN         屏山县,宜宾县,贫困村,社区                         扶贫   \n",
       "1               NaN              福州市、莆田市灾区                         救灾   \n",
       "2               NaN                江苏、福建灾区                         救灾   \n",
       "3               NaN                   云南扶贫                         扶贫   \n",
       "4               NaN                  湖北灾区,                         救灾   \n",
       "5               NaN               四川宜宾屏山扶贫                         扶贫   \n",
       "6               NaN        20000名贫困家庭的大学新生   国酒茅台•国之栋梁—— 2016希望工程圆梦行动   \n",
       "7               NaN              浙江大学教育基金会              浙江大学紫金港校区二期建设   \n",
       "8               NaN              浙江大学教育基金会            高分子系吸附分离材料联合实验室   \n",
       "9               NaN              浙江大学教育基金会          软件学院人才培养与学科建设专项基金   \n",
       "\n",
       "                     Type of Recipient                        Donation Cause  \\\n",
       "0                           Government  Social Welfare & Poverty Alleviation   \n",
       "1                           Government                       Disaster Relief   \n",
       "2                           Government                       Disaster Relief   \n",
       "3                           Government  Social Welfare & Poverty Alleviation   \n",
       "4                           Government                       Disaster Relief   \n",
       "5                           Government  Social Welfare & Poverty Alleviation   \n",
       "6                        Individual(s)                             Education   \n",
       "7  University or University Foundation                             Education   \n",
       "8  University or University Foundation                             Education   \n",
       "9  University or University Foundation                             Education   \n",
       "\n",
       "       Donation Vehicle Form of Donation Pledge? (Y/N)  \n",
       "0           Corporation             Cash             N  \n",
       "1           Corporation             Cash             N  \n",
       "2           Corporation             Cash             N  \n",
       "3           Corporation             Cash             N  \n",
       "4           Corporation             Cash             N  \n",
       "5           Corporation             Cash             N  \n",
       "6  Corporate Foundation             Cash             N  \n",
       "7           Corporation             Cash             N  \n",
       "8           Corporation             Cash             N  \n",
       "9           Corporation             Cash             N  "
      ]
     },
     "execution_count": 174,
     "metadata": {},
     "output_type": "execute_result"
    }
   ],
   "source": [
    "org_public_grouped = organization_public.groupby(['Organization Name (CN)'])['Donation Amount (mil ¥)'].sum().reset_index()\n",
    "org_public_grouped['Rank'] = org_public_grouped['Donation Amount (mil ¥)'].rank(method='dense', ascending=False)\n",
    "organization_public.set_index('Organization Name (CN)', inplace=True)\n",
    "org_public_grouped.set_index('Organization Name (CN)', inplace=True)\n",
    "organization_public.update(org_public_grouped)\n",
    "organization_public.reset_index(inplace=True)\n",
    "organization_public.head(10)"
   ]
  },
  {
   "cell_type": "code",
   "execution_count": 175,
   "metadata": {},
   "outputs": [
    {
     "data": {
      "text/html": [
       "<div>\n",
       "<style scoped>\n",
       "    .dataframe tbody tr th:only-of-type {\n",
       "        vertical-align: middle;\n",
       "    }\n",
       "\n",
       "    .dataframe tbody tr th {\n",
       "        vertical-align: top;\n",
       "    }\n",
       "\n",
       "    .dataframe thead th {\n",
       "        text-align: right;\n",
       "    }\n",
       "</style>\n",
       "<table border=\"1\" class=\"dataframe\">\n",
       "  <thead>\n",
       "    <tr style=\"text-align: right;\">\n",
       "      <th></th>\n",
       "      <th>Organization Name (CN)</th>\n",
       "      <th>Rank</th>\n",
       "      <th>Total Amount</th>\n",
       "      <th>Industry</th>\n",
       "      <th>Donation Amount (mil ¥)</th>\n",
       "      <th>Donation Month</th>\n",
       "      <th>Donation Date</th>\n",
       "      <th>Donation Origin (Province)</th>\n",
       "      <th>Donation Origin (City)</th>\n",
       "      <th>Donation Destination (Province)</th>\n",
       "      <th>Donation Destination (City)</th>\n",
       "      <th>Name of Recipient</th>\n",
       "      <th>Name of Recipient (CN)</th>\n",
       "      <th>Donation for what program?</th>\n",
       "      <th>Type of Recipient</th>\n",
       "      <th>Donation Cause</th>\n",
       "      <th>Form of Donation</th>\n",
       "      <th>Pledge? (Y/N)</th>\n",
       "    </tr>\n",
       "  </thead>\n",
       "  <tbody>\n",
       "    <tr>\n",
       "      <th>0</th>\n",
       "      <td>恒大集团</td>\n",
       "      <td>1.0</td>\n",
       "      <td>1054.0</td>\n",
       "      <td>Real Estate</td>\n",
       "      <td>1054.0</td>\n",
       "      <td>1.0</td>\n",
       "      <td>8.0</td>\n",
       "      <td>Guangdong</td>\n",
       "      <td>Guangzhou</td>\n",
       "      <td>Guizhou</td>\n",
       "      <td>Bijie</td>\n",
       "      <td>NaN</td>\n",
       "      <td>贵州大方县政府</td>\n",
       "      <td>并设立10亿元产业扶贫专项贷款担保基金、举办四期共4000人的吸纳贫困家庭劳动力就业培训、同...</td>\n",
       "      <td>Government</td>\n",
       "      <td>Social Welfare &amp; Poverty Alleviation</td>\n",
       "      <td>Cash</td>\n",
       "      <td>N</td>\n",
       "    </tr>\n",
       "    <tr>\n",
       "      <th>1</th>\n",
       "      <td>建业集团</td>\n",
       "      <td>2.0</td>\n",
       "      <td>850.0</td>\n",
       "      <td>NaN</td>\n",
       "      <td>850.0</td>\n",
       "      <td>9.0</td>\n",
       "      <td>5.0</td>\n",
       "      <td>Henan</td>\n",
       "      <td>Zhengzhou</td>\n",
       "      <td>Henan</td>\n",
       "      <td>Zhengzhou</td>\n",
       "      <td>NaN</td>\n",
       "      <td>河南省慈善总会</td>\n",
       "      <td>深入学习贯彻“慈善法”</td>\n",
       "      <td>NaN</td>\n",
       "      <td>Unspecified</td>\n",
       "      <td>Cash</td>\n",
       "      <td>NaN</td>\n",
       "    </tr>\n",
       "    <tr>\n",
       "      <th>2</th>\n",
       "      <td>元林基金会</td>\n",
       "      <td>3.0</td>\n",
       "      <td>500.0</td>\n",
       "      <td>Manufacturing</td>\n",
       "      <td>500.0</td>\n",
       "      <td>2.0</td>\n",
       "      <td>29.0</td>\n",
       "      <td>Jiangsu</td>\n",
       "      <td>Jiangyin</td>\n",
       "      <td>Jiangsu</td>\n",
       "      <td>Jiangyin</td>\n",
       "      <td>Jiangyin Government</td>\n",
       "      <td>江阴市政府</td>\n",
       "      <td>建康复医院</td>\n",
       "      <td>Government</td>\n",
       "      <td>Public Health</td>\n",
       "      <td>Cash</td>\n",
       "      <td>N</td>\n",
       "    </tr>\n",
       "    <tr>\n",
       "      <th>3</th>\n",
       "      <td>海亮集团有限公司</td>\n",
       "      <td>6.0</td>\n",
       "      <td>250.0</td>\n",
       "      <td>Manufacturing</td>\n",
       "      <td>250.0</td>\n",
       "      <td>12.0</td>\n",
       "      <td>30.0</td>\n",
       "      <td>Zhejiang</td>\n",
       "      <td>Hangzhou</td>\n",
       "      <td>Zhejiang</td>\n",
       "      <td>Hangzhou</td>\n",
       "      <td>Zhejiang University Education Foundation</td>\n",
       "      <td>浙江大学教育基金会</td>\n",
       "      <td>用于支持浙江大学肿瘤学科的建设和医学人才的培养，以及加强医院的医疗技术力量。</td>\n",
       "      <td>University or University Foundation</td>\n",
       "      <td>Public Health</td>\n",
       "      <td>Cash</td>\n",
       "      <td>N</td>\n",
       "    </tr>\n",
       "    <tr>\n",
       "      <th>4</th>\n",
       "      <td>广东省国强公益基金会</td>\n",
       "      <td>9.0</td>\n",
       "      <td>202.0</td>\n",
       "      <td>NaN</td>\n",
       "      <td>202.0</td>\n",
       "      <td>12.0</td>\n",
       "      <td>9.0</td>\n",
       "      <td>Guangdong</td>\n",
       "      <td>Foshan</td>\n",
       "      <td>Guangdong</td>\n",
       "      <td>Guangzhou</td>\n",
       "      <td>NaN</td>\n",
       "      <td>广东省扶贫基金会</td>\n",
       "      <td>NaN</td>\n",
       "      <td>Government Charitable Organization</td>\n",
       "      <td>Unspecified</td>\n",
       "      <td>Cash</td>\n",
       "      <td>N</td>\n",
       "    </tr>\n",
       "    <tr>\n",
       "      <th>5</th>\n",
       "      <td>劲牌有限公司</td>\n",
       "      <td>5.0</td>\n",
       "      <td>300.0</td>\n",
       "      <td>NaN</td>\n",
       "      <td>300.0</td>\n",
       "      <td>4.0</td>\n",
       "      <td>8.0</td>\n",
       "      <td>Hubei</td>\n",
       "      <td>Daye</td>\n",
       "      <td>NaN</td>\n",
       "      <td>NaN</td>\n",
       "      <td>NaN</td>\n",
       "      <td>大冶市政府</td>\n",
       "      <td>生态公园建设</td>\n",
       "      <td>Government</td>\n",
       "      <td>Social Welfare &amp; Poverty Alleviation</td>\n",
       "      <td>Cash</td>\n",
       "      <td>Y</td>\n",
       "    </tr>\n",
       "    <tr>\n",
       "      <th>6</th>\n",
       "      <td>北京科艺创新文化发展有限公司</td>\n",
       "      <td>10.0</td>\n",
       "      <td>200.0</td>\n",
       "      <td>Entertainment</td>\n",
       "      <td>200.0</td>\n",
       "      <td>5.0</td>\n",
       "      <td>13.0</td>\n",
       "      <td>Beijing</td>\n",
       "      <td>Beijing</td>\n",
       "      <td>Beijing</td>\n",
       "      <td>Beijing</td>\n",
       "      <td>NaN</td>\n",
       "      <td>中国科学院大学</td>\n",
       "      <td>新成立的艺术中心</td>\n",
       "      <td>University or University Foundation</td>\n",
       "      <td>Education</td>\n",
       "      <td>Cash</td>\n",
       "      <td>N</td>\n",
       "    </tr>\n",
       "    <tr>\n",
       "      <th>7</th>\n",
       "      <td>歌尔股份有限公司</td>\n",
       "      <td>10.0</td>\n",
       "      <td>200.0</td>\n",
       "      <td>Manufacturing</td>\n",
       "      <td>200.0</td>\n",
       "      <td>5.0</td>\n",
       "      <td>3.0</td>\n",
       "      <td>Shandong</td>\n",
       "      <td>Weifang</td>\n",
       "      <td>Beijing</td>\n",
       "      <td>Beijing</td>\n",
       "      <td>Beihang University</td>\n",
       "      <td>北京航空航天大学</td>\n",
       "      <td>用于前沿科学研究及高新技术成果产业化、高端人才国际化培养、优秀学生资助与奖励、学生创新创业空...</td>\n",
       "      <td>University or University Foundation</td>\n",
       "      <td>Education</td>\n",
       "      <td>Cash</td>\n",
       "      <td>N</td>\n",
       "    </tr>\n",
       "    <tr>\n",
       "      <th>8</th>\n",
       "      <td>泰禾集团</td>\n",
       "      <td>7.0</td>\n",
       "      <td>240.0</td>\n",
       "      <td>Real Estate</td>\n",
       "      <td>240.0</td>\n",
       "      <td>10.0</td>\n",
       "      <td>31.0</td>\n",
       "      <td>Fujian</td>\n",
       "      <td>Fuzhou</td>\n",
       "      <td>Guangdong</td>\n",
       "      <td>Shenzhen</td>\n",
       "      <td>Institute for Hospital Management of Tsinghua ...</td>\n",
       "      <td>清华大学医院管理研究院</td>\n",
       "      <td>泰禾清华医管基金</td>\n",
       "      <td>University or University Foundation</td>\n",
       "      <td>Education</td>\n",
       "      <td>Cash</td>\n",
       "      <td>N</td>\n",
       "    </tr>\n",
       "    <tr>\n",
       "      <th>9</th>\n",
       "      <td>浙江通策控股集团有限公司</td>\n",
       "      <td>10.0</td>\n",
       "      <td>200.0</td>\n",
       "      <td>Finance</td>\n",
       "      <td>200.0</td>\n",
       "      <td>2.0</td>\n",
       "      <td>1.0</td>\n",
       "      <td>Zhejiang</td>\n",
       "      <td>Hangzhou</td>\n",
       "      <td>Beijing</td>\n",
       "      <td>Beijing</td>\n",
       "      <td>NaN</td>\n",
       "      <td>中国科学院大学存济医学院</td>\n",
       "      <td>用于建设存济医学院大楼</td>\n",
       "      <td>University or University Foundation</td>\n",
       "      <td>Education</td>\n",
       "      <td>Cash</td>\n",
       "      <td>N</td>\n",
       "    </tr>\n",
       "  </tbody>\n",
       "</table>\n",
       "</div>"
      ],
      "text/plain": [
       "  Organization Name (CN)  Rank  Total Amount       Industry  \\\n",
       "0                   恒大集团   1.0        1054.0    Real Estate   \n",
       "1                   建业集团   2.0         850.0            NaN   \n",
       "2                  元林基金会   3.0         500.0  Manufacturing   \n",
       "3               海亮集团有限公司   6.0         250.0  Manufacturing   \n",
       "4             广东省国强公益基金会   9.0         202.0            NaN   \n",
       "5                 劲牌有限公司   5.0         300.0            NaN   \n",
       "6         北京科艺创新文化发展有限公司  10.0         200.0  Entertainment   \n",
       "7               歌尔股份有限公司  10.0         200.0  Manufacturing   \n",
       "8                   泰禾集团   7.0         240.0    Real Estate   \n",
       "9           浙江通策控股集团有限公司  10.0         200.0        Finance   \n",
       "\n",
       "   Donation Amount (mil ¥)  Donation Month  Donation Date  \\\n",
       "0                   1054.0             1.0            8.0   \n",
       "1                    850.0             9.0            5.0   \n",
       "2                    500.0             2.0           29.0   \n",
       "3                    250.0            12.0           30.0   \n",
       "4                    202.0            12.0            9.0   \n",
       "5                    300.0             4.0            8.0   \n",
       "6                    200.0             5.0           13.0   \n",
       "7                    200.0             5.0            3.0   \n",
       "8                    240.0            10.0           31.0   \n",
       "9                    200.0             2.0            1.0   \n",
       "\n",
       "  Donation Origin (Province) Donation Origin (City)  \\\n",
       "0                 Guangdong              Guangzhou    \n",
       "1                      Henan              Zhengzhou   \n",
       "2                    Jiangsu              Jiangyin    \n",
       "3                  Zhejiang                Hangzhou   \n",
       "4                 Guangdong                  Foshan   \n",
       "5                     Hubei                    Daye   \n",
       "6                    Beijing                Beijing   \n",
       "7                   Shandong                Weifang   \n",
       "8                     Fujian                 Fuzhou   \n",
       "9                   Zhejiang               Hangzhou   \n",
       "\n",
       "  Donation Destination (Province) Donation Destination (City)  \\\n",
       "0                         Guizhou                       Bijie   \n",
       "1                           Henan                   Zhengzhou   \n",
       "2                         Jiangsu                    Jiangyin   \n",
       "3                        Zhejiang                    Hangzhou   \n",
       "4                      Guangdong                    Guangzhou   \n",
       "5                             NaN                         NaN   \n",
       "6                         Beijing                     Beijing   \n",
       "7                         Beijing                     Beijing   \n",
       "8                      Guangdong                     Shenzhen   \n",
       "9                         Beijing                     Beijing   \n",
       "\n",
       "                                   Name of Recipient Name of Recipient (CN)  \\\n",
       "0                                                NaN                贵州大方县政府   \n",
       "1                                                NaN                河南省慈善总会   \n",
       "2                                Jiangyin Government                  江阴市政府   \n",
       "3           Zhejiang University Education Foundation              浙江大学教育基金会   \n",
       "4                                                NaN               广东省扶贫基金会   \n",
       "5                                                NaN                  大冶市政府   \n",
       "6                                                NaN               中国科学院大学    \n",
       "7                                 Beihang University               北京航空航天大学   \n",
       "8  Institute for Hospital Management of Tsinghua ...            清华大学医院管理研究院   \n",
       "9                                                NaN           中国科学院大学存济医学院   \n",
       "\n",
       "                          Donation for what program?  \\\n",
       "0  并设立10亿元产业扶贫专项贷款担保基金、举办四期共4000人的吸纳贫困家庭劳动力就业培训、同...   \n",
       "1                                        深入学习贯彻“慈善法”   \n",
       "2                                              建康复医院   \n",
       "3             用于支持浙江大学肿瘤学科的建设和医学人才的培养，以及加强医院的医疗技术力量。   \n",
       "4                                                NaN   \n",
       "5                                             生态公园建设   \n",
       "6                                           新成立的艺术中心   \n",
       "7  用于前沿科学研究及高新技术成果产业化、高端人才国际化培养、优秀学生资助与奖励、学生创新创业空...   \n",
       "8                                           泰禾清华医管基金   \n",
       "9                                        用于建设存济医学院大楼   \n",
       "\n",
       "                     Type of Recipient                        Donation Cause  \\\n",
       "0                           Government  Social Welfare & Poverty Alleviation   \n",
       "1                                  NaN                           Unspecified   \n",
       "2                           Government                         Public Health   \n",
       "3  University or University Foundation                         Public Health   \n",
       "4   Government Charitable Organization                           Unspecified   \n",
       "5                           Government  Social Welfare & Poverty Alleviation   \n",
       "6  University or University Foundation                             Education   \n",
       "7  University or University Foundation                             Education   \n",
       "8  University or University Foundation                             Education   \n",
       "9  University or University Foundation                             Education   \n",
       "\n",
       "  Form of Donation Pledge? (Y/N)  \n",
       "0             Cash             N  \n",
       "1             Cash           NaN  \n",
       "2             Cash             N  \n",
       "3             Cash             N  \n",
       "4             Cash             N  \n",
       "5             Cash             Y  \n",
       "6             Cash             N  \n",
       "7             Cash             N  \n",
       "8             Cash             N  \n",
       "9             Cash             N  "
      ]
     },
     "execution_count": 175,
     "metadata": {},
     "output_type": "execute_result"
    }
   ],
   "source": [
    "org_private_grouped = organization_private.groupby(['Organization Name (CN)'])['Donation Amount (mil ¥)'].sum().reset_index()\n",
    "org_private_grouped['Rank'] = org_private_grouped['Donation Amount (mil ¥)'].rank(method='dense', ascending=False)\n",
    "organization_private.set_index('Organization Name (CN)', inplace=True)\n",
    "org_private_grouped.set_index('Organization Name (CN)', inplace=True)\n",
    "organization_private.update(org_private_grouped)\n",
    "organization_private.reset_index(inplace=True)\n",
    "organization_private.head(10)"
   ]
  },
  {
   "cell_type": "code",
   "execution_count": 176,
   "metadata": {},
   "outputs": [],
   "source": [
    "# Create a new coloumn 'Category' for these three tables\n",
    "individual['Category'] = 'Individual'\n",
    "organization_public['Category']='Public'\n",
    "organization_private['Category']='private'"
   ]
  },
  {
   "cell_type": "code",
   "execution_count": 177,
   "metadata": {},
   "outputs": [],
   "source": [
    "#Extract the required columns and remove them\n",
    "individual_subset = individual[['Name (CN)', 'Total Amount', 'Category', 'Industry']].drop_duplicates()\n",
    "organization_public_subset = organization_public[['Organization Name (CN)', 'Total Amount', 'Category', 'Industry']].drop_duplicates()\n",
    "organization_private_subset = organization_private[['Organization Name (CN)', 'Total Amount', 'Category', 'Industry']].drop_duplicates()"
   ]
  },
  {
   "cell_type": "code",
   "execution_count": 178,
   "metadata": {},
   "outputs": [],
   "source": [
    "# Rename the columns so that they are consistent across all datasets\n",
    "individual_subset.columns = ['Name', 'Total Amount', 'Category (Public/Private/Individual)', 'Industry']\n",
    "organization_public_subset.columns = ['Name', 'Total Amount', 'Category (Public/Private/Individual)', 'Industry']\n",
    "organization_private_subset.columns = ['Name', 'Total Amount', 'Category (Public/Private/Individual)', 'Industry']\n"
   ]
  },
  {
   "cell_type": "code",
   "execution_count": 179,
   "metadata": {},
   "outputs": [],
   "source": [
    "# Concat 3 tables\n",
    "composite_rank = pd.concat([individual_subset, organization_public_subset, organization_private_subset])"
   ]
  },
  {
   "cell_type": "code",
   "execution_count": 180,
   "metadata": {},
   "outputs": [],
   "source": [
    "#Drop duplicate Rows\n",
    "composite_rank = composite_rank.drop_duplicates(subset=['Name', 'Total Amount', 'Category (Public/Private/Individual)'])"
   ]
  },
  {
   "cell_type": "code",
   "execution_count": 181,
   "metadata": {},
   "outputs": [
    {
     "data": {
      "text/html": [
       "<div>\n",
       "<style scoped>\n",
       "    .dataframe tbody tr th:only-of-type {\n",
       "        vertical-align: middle;\n",
       "    }\n",
       "\n",
       "    .dataframe tbody tr th {\n",
       "        vertical-align: top;\n",
       "    }\n",
       "\n",
       "    .dataframe thead th {\n",
       "        text-align: right;\n",
       "    }\n",
       "</style>\n",
       "<table border=\"1\" class=\"dataframe\">\n",
       "  <thead>\n",
       "    <tr style=\"text-align: right;\">\n",
       "      <th></th>\n",
       "      <th>Name</th>\n",
       "      <th>Total Amount</th>\n",
       "      <th>Category (Public/Private/Individual)</th>\n",
       "      <th>Industry</th>\n",
       "    </tr>\n",
       "  </thead>\n",
       "  <tbody>\n",
       "    <tr>\n",
       "      <th>0</th>\n",
       "      <td>陈天桥</td>\n",
       "      <td>747.5</td>\n",
       "      <td>Individual</td>\n",
       "      <td>Software and Internet</td>\n",
       "    </tr>\n",
       "    <tr>\n",
       "      <th>1</th>\n",
       "      <td>曹德旺</td>\n",
       "      <td>250.0</td>\n",
       "      <td>Individual</td>\n",
       "      <td>Manufacturing</td>\n",
       "    </tr>\n",
       "    <tr>\n",
       "      <th>2</th>\n",
       "      <td>吴少勋</td>\n",
       "      <td>114.0</td>\n",
       "      <td>Individual</td>\n",
       "      <td>Consumer</td>\n",
       "    </tr>\n",
       "    <tr>\n",
       "      <th>3</th>\n",
       "      <td>周锦霆</td>\n",
       "      <td>100.0</td>\n",
       "      <td>Individual</td>\n",
       "      <td>Software and Internet</td>\n",
       "    </tr>\n",
       "  </tbody>\n",
       "</table>\n",
       "</div>"
      ],
      "text/plain": [
       "  Name  Total Amount Category (Public/Private/Individual)  \\\n",
       "0  陈天桥         747.5                           Individual   \n",
       "1  曹德旺         250.0                           Individual   \n",
       "2  吴少勋         114.0                           Individual   \n",
       "3  周锦霆         100.0                           Individual   \n",
       "\n",
       "                Industry  \n",
       "0  Software and Internet  \n",
       "1          Manufacturing  \n",
       "2               Consumer  \n",
       "3  Software and Internet  "
      ]
     },
     "execution_count": 181,
     "metadata": {},
     "output_type": "execute_result"
    }
   ],
   "source": [
    "composite_rank.head(4)"
   ]
  },
  {
   "attachments": {},
   "cell_type": "markdown",
   "metadata": {},
   "source": [
    "### 5.  Fill the column “Industry” in Sheet 4 “Composite Rank” using the information in the first three sheets. "
   ]
  },
  {
   "cell_type": "code",
   "execution_count": 182,
   "metadata": {},
   "outputs": [],
   "source": [
    "# Create Column 'Composite Rank'\n",
    "composite_rank['Composite Rank'] = composite_rank['Total Amount'].rank(method='min', ascending=False)"
   ]
  },
  {
   "cell_type": "code",
   "execution_count": 183,
   "metadata": {},
   "outputs": [],
   "source": [
    "#Move this column to third column\n",
    "cols=['Name','Total Amount','Composite Rank','Category (Public/Private/Individual)','Industry']\n",
    "composite_rank = composite_rank[cols]"
   ]
  },
  {
   "cell_type": "code",
   "execution_count": 184,
   "metadata": {},
   "outputs": [],
   "source": [
    "#Sort By 'Composite Rank'\n",
    "composite_rank.sort_values('Composite Rank',inplace=True)"
   ]
  },
  {
   "cell_type": "code",
   "execution_count": 185,
   "metadata": {},
   "outputs": [
    {
     "data": {
      "text/html": [
       "<div>\n",
       "<style scoped>\n",
       "    .dataframe tbody tr th:only-of-type {\n",
       "        vertical-align: middle;\n",
       "    }\n",
       "\n",
       "    .dataframe tbody tr th {\n",
       "        vertical-align: top;\n",
       "    }\n",
       "\n",
       "    .dataframe thead th {\n",
       "        text-align: right;\n",
       "    }\n",
       "</style>\n",
       "<table border=\"1\" class=\"dataframe\">\n",
       "  <thead>\n",
       "    <tr style=\"text-align: right;\">\n",
       "      <th></th>\n",
       "      <th>Name</th>\n",
       "      <th>Total Amount</th>\n",
       "      <th>Composite Rank</th>\n",
       "      <th>Category (Public/Private/Individual)</th>\n",
       "      <th>Industry</th>\n",
       "    </tr>\n",
       "  </thead>\n",
       "  <tbody>\n",
       "    <tr>\n",
       "      <th>0</th>\n",
       "      <td>恒大集团</td>\n",
       "      <td>1054.00</td>\n",
       "      <td>1.0</td>\n",
       "      <td>private</td>\n",
       "      <td>Real Estate</td>\n",
       "    </tr>\n",
       "    <tr>\n",
       "      <th>1</th>\n",
       "      <td>建业集团</td>\n",
       "      <td>850.00</td>\n",
       "      <td>2.0</td>\n",
       "      <td>private</td>\n",
       "      <td>NaN</td>\n",
       "    </tr>\n",
       "    <tr>\n",
       "      <th>0</th>\n",
       "      <td>陈天桥</td>\n",
       "      <td>747.50</td>\n",
       "      <td>3.0</td>\n",
       "      <td>Individual</td>\n",
       "      <td>Software and Internet</td>\n",
       "    </tr>\n",
       "    <tr>\n",
       "      <th>0</th>\n",
       "      <td>中国长江三峡集团公司</td>\n",
       "      <td>570.40</td>\n",
       "      <td>4.0</td>\n",
       "      <td>Public</td>\n",
       "      <td>NaN</td>\n",
       "    </tr>\n",
       "    <tr>\n",
       "      <th>2</th>\n",
       "      <td>元林基金会</td>\n",
       "      <td>500.00</td>\n",
       "      <td>5.0</td>\n",
       "      <td>private</td>\n",
       "      <td>Manufacturing</td>\n",
       "    </tr>\n",
       "    <tr>\n",
       "      <th>25</th>\n",
       "      <td>中国泛海控股集团</td>\n",
       "      <td>393.18</td>\n",
       "      <td>6.0</td>\n",
       "      <td>private</td>\n",
       "      <td>NaN</td>\n",
       "    </tr>\n",
       "    <tr>\n",
       "      <th>5</th>\n",
       "      <td>劲牌有限公司</td>\n",
       "      <td>300.00</td>\n",
       "      <td>7.0</td>\n",
       "      <td>private</td>\n",
       "      <td>NaN</td>\n",
       "    </tr>\n",
       "    <tr>\n",
       "      <th>3</th>\n",
       "      <td>海亮集团有限公司</td>\n",
       "      <td>250.00</td>\n",
       "      <td>8.0</td>\n",
       "      <td>private</td>\n",
       "      <td>Manufacturing</td>\n",
       "    </tr>\n",
       "    <tr>\n",
       "      <th>1</th>\n",
       "      <td>曹德旺</td>\n",
       "      <td>250.00</td>\n",
       "      <td>8.0</td>\n",
       "      <td>Individual</td>\n",
       "      <td>Manufacturing</td>\n",
       "    </tr>\n",
       "    <tr>\n",
       "      <th>8</th>\n",
       "      <td>泰禾集团</td>\n",
       "      <td>240.00</td>\n",
       "      <td>10.0</td>\n",
       "      <td>private</td>\n",
       "      <td>Real Estate</td>\n",
       "    </tr>\n",
       "  </tbody>\n",
       "</table>\n",
       "</div>"
      ],
      "text/plain": [
       "          Name  Total Amount  Composite Rank  \\\n",
       "0         恒大集团       1054.00             1.0   \n",
       "1         建业集团        850.00             2.0   \n",
       "0          陈天桥        747.50             3.0   \n",
       "0   中国长江三峡集团公司        570.40             4.0   \n",
       "2        元林基金会        500.00             5.0   \n",
       "25    中国泛海控股集团        393.18             6.0   \n",
       "5       劲牌有限公司        300.00             7.0   \n",
       "3     海亮集团有限公司        250.00             8.0   \n",
       "1          曹德旺        250.00             8.0   \n",
       "8         泰禾集团        240.00            10.0   \n",
       "\n",
       "   Category (Public/Private/Individual)               Industry  \n",
       "0                               private            Real Estate  \n",
       "1                               private                    NaN  \n",
       "0                            Individual  Software and Internet  \n",
       "0                                Public                    NaN  \n",
       "2                               private          Manufacturing  \n",
       "25                              private                    NaN  \n",
       "5                               private                    NaN  \n",
       "3                               private          Manufacturing  \n",
       "1                            Individual          Manufacturing  \n",
       "8                               private            Real Estate  "
      ]
     },
     "execution_count": 185,
     "metadata": {},
     "output_type": "execute_result"
    }
   ],
   "source": [
    "composite_rank.head(10)"
   ]
  },
  {
   "cell_type": "code",
   "execution_count": 186,
   "metadata": {},
   "outputs": [],
   "source": [
    "## Create a Output Excel\n",
    "with pd.ExcelWriter('output.xlsx') as writer:  \n",
    "    individual.to_excel(writer, sheet_name='Individual', index=False)\n",
    "    organization_public.to_excel(writer, sheet_name='Organization (Public)', index=False)\n",
    "    organization_private.to_excel(writer, sheet_name='Organization (Private)', index=False)\n",
    "    composite_rank.to_excel(writer, sheet_name='Composite Rank', index=False)"
   ]
  },
  {
   "attachments": {},
   "cell_type": "markdown",
   "metadata": {},
   "source": [
    "# Data Visualization"
   ]
  },
  {
   "attachments": {},
   "cell_type": "markdown",
   "metadata": {},
   "source": [
    "## 1. Age distribution of donors: According to the \"Age\" column in the \"Individual\" table, you can analyze the age distribution of donors."
   ]
  },
  {
   "cell_type": "code",
   "execution_count": 187,
   "metadata": {},
   "outputs": [],
   "source": [
    "# Import visualization packages\n",
    "import matplotlib.pyplot as plt\n",
    "import seaborn as sns\n",
    "import plotly.express as px"
   ]
  },
  {
   "cell_type": "code",
   "execution_count": 188,
   "metadata": {},
   "outputs": [],
   "source": [
    "#DROP NA\n",
    "individual2 = individual[individual['Age'].notna()]\n"
   ]
  },
  {
   "cell_type": "code",
   "execution_count": 189,
   "metadata": {},
   "outputs": [
    {
     "data": {
      "image/png": "[encoded data removed]",
      "text/plain": [
       "<Figure size 640x480 with 2 Axes>"
      ]
     },
     "metadata": {},
     "output_type": "display_data"
    }
   ],
   "source": [
    "fig, (ax_box, ax_hist) = plt.subplots(2, sharex=True, gridspec_kw={\"height_ratios\": (.15, .85)})\n",
    "\n",
    "sns.boxplot(data=individual2, x='Age', ax=ax_box)\n",
    "ax_box.set(xlabel='')\n",
    "\n",
    "sns.histplot(data=individual, x='Age', bins=20, kde=True, ax=ax_hist, color='skyblue')\n",
    "\n",
    "# Add the alpha parameter to violinplot to set transparency\n",
    "#sns.violinplot(data=individual, x='Age', ax=ax_hist, color='lightgray', alpha=0.2)\n",
    "\n",
    "ax_box.set_title('Distribution of AGE')\n",
    "plt.show()"
   ]
  },
  {
   "attachments": {},
   "cell_type": "markdown",
   "metadata": {},
   "source": [
    "## Relationship Between AGE and Total Amount"
   ]
  },
  {
   "cell_type": "code",
   "execution_count": 190,
   "metadata": {},
   "outputs": [
    {
     "data": {
      "application/vnd.plotly.v1+json": {
       "config": {
        "plotlyServerURL": "https://plot.ly"
       },
       "data": [
        {
         "hovertemplate": "<b>%{hovertext}</b><br><br>Age=%{x}<br>Total Amount=%{marker.color:.2f}<extra></extra>",
         "hovertext": [
          "陈天桥",
          "曹德旺",
          "吴少勋",
          "周锦霆",
          "朱永宁",
          "张宗真",
          "吴亚军",
          "许健康",
          "马化腾",
          "纪海鹏",
          "陈发树",
          "雷军",
          "游志胜",
          "杨红雨",
          "沈南鹏",
          "李贤义",
          "井贤栋",
          "林建欣",
          "孙飘扬",
          "吴敏文",
          "金肖甬",
          "郭跃进",
          "严介和",
          "周亚辉",
          "唐立新",
          "薛惊理",
          "史锐雪",
          "侯建芳",
          "任太平",
          "董泰湘",
          "邵根伙",
          "王云",
          "丁韶华",
          "胡永新",
          "柯荣卿",
          "折生阳",
          "赵广钰",
          "王勇",
          "郑跃文",
          "姚翔",
          "李从文",
          "曾立品",
          "苏文建",
          "陈永建",
          "许晓椿",
          "傅光明",
          "张国良",
          "姜维平",
          "李健",
          "左晖",
          "蒋仁生",
          "蒋仁生",
          "刘小钢",
          "马化腾",
          "徐鹏生",
          "刘益谦",
          "曾志龙",
          "庞升东",
          "庞升东",
          "涂汉江",
          "谭广生",
          "陈一丹",
          "王磊",
          "蔡光",
          "易大盛",
          "何志涛",
          "郑炜",
          "胡稼",
          "王静君",
          "张春霖",
          "钱峰雷",
          "胡小伟",
          "许文默",
          "庄清乐",
          "徐丙垠",
          "毛蔚瀛",
          "李从文",
          "鲍银胜",
          "周耀庭",
          "周亚飞",
          "朱旭东",
          "薛惊理",
          "王贺军",
          "叶嘉莹",
          "王少华",
          "陈青松",
          "喻友旺",
          "赵春华",
          "潘丽",
          "郑雪英",
          "胡国良",
          "刘军",
          "朱启科",
          "石戴卫",
          "陈天洲",
          "刘创成",
          "陈小英",
          "王青",
          "姜春云",
          "雷振明",
          "张跃",
          "王颖",
          "韩春岚",
          "洪涛",
          "阮灿华",
          "黄伟",
          "贺志力",
          "雷厉",
          "宋世杰",
          "薛燕",
          "钟国姿",
          "王晓红",
          "倪浩",
          "陈小英",
          "陈劲松",
          "陈永红",
          "游振华",
          "吴明璋",
          "卓金德",
          "苏千墅",
          "陈红天",
          "卢闰霆",
          "徐雄",
          "黄维宽",
          "吴东魁",
          "益炯",
          "郭少忠",
          "徐少春",
          "田键",
          "崔岩",
          "翁晓军",
          "何道峰",
          "吴永华",
          "蔡明",
          "谢晓京",
          "林孟良",
          "张帆",
          "李占通",
          "陈光保",
          "朱英龙先生",
          "杨立勋",
          "杜立",
          "肖菊芳",
          "翟洪桂",
          "陈书智",
          "申泳亮",
          "施红阳",
          "皮社胜",
          "车全宏",
          "陈治军",
          "严义",
          "尹学渊",
          "张绍栋",
          "周达",
          "杨建华",
          "宋世杰",
          "王占阁",
          "霍斌",
          "余金龙",
          "姜书迪",
          "林少彬",
          "李健",
          "莫浩材",
          "向长江",
          "赵伶俐",
          "杜立",
          "吴金针",
          "王同川",
          "柯希杰、陈毓秀",
          "益炯",
          "贺宪宁",
          "文章、马伊琍夫妇",
          "南存钿",
          "朱斌琳",
          "刘双菊",
          "袁木荣",
          "徐洲成",
          "吴少勋",
          "王建玲",
          "姜斌",
          "高健",
          "郑宣才",
          "朱志文",
          "尹娟",
          "邱宇",
          "仉超",
          "王建华",
          "庄翠萍",
          "钟春福",
          "郑晓辉",
          "黄伟雄",
          "杨洪强",
          "陈如亮",
          "王建华",
          "黄秋明",
          "杨华",
          "失文标",
          "马亚桢",
          "姚先国",
          "JACKIE XIAOBEI WU",
          "龙熙霖",
          "刘健",
          "江英",
          "周晓农",
          "王再兴",
          "陈金滨",
          "屠哟哟",
          "李继源",
          "徐超",
          "杨全海",
          "向仁权",
          "徐祖耀",
          "王明远",
          "张晓东",
          "赖剑允",
          "李泽平",
          "刘会平",
          "严建林",
          "余云辉",
          "傅康云",
          "张亚平",
          "徐小平",
          "刘文旭",
          "邹耀勇",
          "李春阳",
          "吴天真",
          "武爱斌",
          "陈光保",
          "陆婉珍",
          "邓植中",
          "韩长安",
          "佟建功",
          "涂敏",
          "陈徽凤",
          "吴志刚",
          "林宜元",
          "张珊娜",
          "赵全平",
          "漆勇",
          "谢沛其",
          "李丽",
          "梁萍秀",
          "张舜尧",
          "朱德贞",
          "陈春玖",
          "苏维锋",
          "陈立飞",
          "王雪会",
          "宋声扬",
          "韩子",
          "倪鸿基",
          "何明玉",
          "李敬铭",
          "何思模",
          "施锦山",
          "李向阳",
          "王立志",
          "贺志强",
          "庄君新",
          "宋声扬",
          "赵瑜欢",
          "吴勇汉",
          "金中芳",
          "宗士才",
          "崔岩",
          "游国权",
          "李科杰、何凤莲",
          "甘婷婷",
          "吴俊广",
          "花延明",
          "李泽平",
          "李炳昆",
          "王淑真，王淑美",
          "唐磊",
          "田晓丽",
          "吴锦华",
          "罗丹那",
          "徐章来",
          "陈春玖",
          "孙祺",
          "曹宏宙,周家莺",
          "尹衍樑",
          "朱德贞",
          "丘文漳",
          "朱星铭",
          "李朝林",
          "邝瑞美",
          "卢敏放",
          "殷凤娟",
          "刘盛德",
          "王毅",
          "郑连发",
          "孙雪莹",
          "李弘",
          "熊延生",
          "石劲磊",
          "杨小娟",
          "赵瑜欢",
          "谢广汉",
          "胡赫男",
          "孙小敏",
          "郑虹",
          "龚娜娜",
          "陈汉涛",
          "王曦月",
          "张津铭",
          "郑宇",
          "杨子江",
          "张育桓",
          "莫渊策",
          "柏艾伶",
          "梁萍秀",
          "赖新",
          "杨靖",
          "蓝碧桃",
          "方伟涛",
          "李皓",
          "韩胜利",
          "陈赫",
          "李易峰",
          "缅甸果敢社会福利基金会魏榕",
          "周冬雨",
          "索娟",
          "冯泉",
          "卢敏放",
          "林顺生",
          "尹泽勇",
          "张妍",
          "孟俐",
          "魏蓝",
          "卢敏放",
          "卢敏放",
          "陈旭",
          "卢敏放",
          "卢敏放"
         ],
         "legendgroup": "",
         "marker": {
          "color": [
           747.5,
           250,
           114,
           100,
           100,
           100,
           100,
           100,
           107.87196313,
           100,
           100,
           99.999999,
           50,
           50,
           50,
           38,
           32.5,
           20,
           20,
           20,
           20,
           20,
           20,
           20,
           15,
           19,
           10.6,
           10,
           10,
           10,
           10,
           10,
           10,
           10,
           10,
           10,
           10,
           10,
           10,
           10,
           15,
           10,
           10,
           10,
           10,
           10,
           10,
           10,
           11,
           10,
           20,
           20,
           8.12,
           107.87196313,
           7.5,
           7.2,
           7,
           18,
           18,
           6.66,
           6.5,
           6.4992,
           6,
           6,
           6,
           5.5,
           5,
           5,
           5,
           5,
           5,
           5,
           5,
           5,
           5,
           5,
           15,
           5,
           5,
           5,
           5,
           19,
           4,
           3.8,
           3.5,
           3.5,
           3,
           3,
           3,
           3,
           3,
           3,
           3,
           2.999975,
           2.69,
           2.38,
           4,
           2,
           2,
           2,
           2,
           2,
           2,
           2,
           2,
           2,
           2,
           2,
           3,
           2,
           2,
           2,
           2,
           4,
           20,
           2,
           2,
           2,
           2,
           2,
           2,
           2,
           2,
           2,
           1.8,
           2.6,
           1.5,
           1.5,
           1.5,
           2,
           1.5,
           1.5,
           1.35,
           1.22,
           1.22,
           1.2,
           1.1178647,
           1.1,
           2.1,
           1.0055725,
           1,
           2,
           1,
           1,
           1,
           1,
           1,
           1,
           1,
           1,
           1,
           1,
           1,
           1,
           1,
           3,
           1,
           1,
           1,
           1,
           1,
           11,
           1,
           1,
           1,
           2,
           1,
           1,
           1,
           2.6,
           1,
           1,
           1,
           1,
           1,
           1,
           1,
           114,
           1,
           1,
           1,
           1,
           1,
           1,
           1,
           1,
           2,
           1,
           1,
           1,
           1,
           1,
           1,
           2,
           1,
           1,
           1,
           1,
           1,
           1,
           1,
           1,
           1,
           1,
           1,
           1,
           1,
           1,
           1,
           1,
           1,
           1,
           1,
           1,
           1,
           1.5,
           1,
           1,
           1,
           1,
           1,
           1,
           1,
           1,
           1,
           1,
           1,
           2.1,
           1,
           1,
           1,
           1,
           1,
           1,
           1,
           0.88,
           0.8,
           0.8,
           0.8,
           0.8,
           0.8,
           1,
           0.792,
           1.03,
           1.03,
           0.7,
           0.64,
           0.64,
           1.1,
           0.6,
           0.6,
           0.6,
           0.6,
           0.55,
           0.54,
           0.54,
           0.5,
           0.5,
           0.5,
           1.1,
           0.7,
           0.5,
           0.5,
           0.5,
           2,
           0.5,
           0.5,
           0.5,
           0.5,
           0.5,
           1.5,
           0.35,
           0.35,
           0.34,
           0.333335,
           0.333333,
           0.333333,
           0.33,
           1.03,
           0.3,
           0.3,
           0.3,
           1.03,
           0.3,
           0.3,
           0.3,
           0.3,
           1.079778,
           0.25,
           0.25,
           0.216754,
           0.21,
           0.2,
           0.2,
           0.2,
           0.2,
           0.2,
           0.7,
           0.2,
           0.2,
           0.2,
           0.2,
           0.2,
           0.2,
           0.2,
           0.2,
           0.2,
           0.2,
           0.2,
           0.2,
           0.2,
           1,
           0.2,
           0.2,
           0.2,
           0.2,
           0.2,
           0.2,
           0.2,
           0.2,
           0.2,
           0.2,
           0.1958,
           0.193998,
           1.079778,
           0.18,
           0.18,
           0.17222,
           0.17,
           0.16,
           1.079778,
           1.079778,
           0.15257176,
           1.079778,
           1.079778
          ],
          "coloraxis": "coloraxis",
          "size": [
           747.5,
           250,
           114,
           100,
           100,
           100,
           100,
           100,
           107.87196313,
           100,
           100,
           99.999999,
           50,
           50,
           50,
           38,
           32.5,
           20,
           20,
           20,
           20,
           20,
           20,
           20,
           15,
           19,
           10.6,
           10,
           10,
           10,
           10,
           10,
           10,
           10,
           10,
           10,
           10,
           10,
           10,
           10,
           15,
           10,
           10,
           10,
           10,
           10,
           10,
           10,
           11,
           10,
           20,
           20,
           8.12,
           107.87196313,
           7.5,
           7.2,
           7,
           18,
           18,
           6.66,
           6.5,
           6.4992,
           6,
           6,
           6,
           5.5,
           5,
           5,
           5,
           5,
           5,
           5,
           5,
           5,
           5,
           5,
           15,
           5,
           5,
           5,
           5,
           19,
           4,
           3.8,
           3.5,
           3.5,
           3,
           3,
           3,
           3,
           3,
           3,
           3,
           2.999975,
           2.69,
           2.38,
           4,
           2,
           2,
           2,
           2,
           2,
           2,
           2,
           2,
           2,
           2,
           2,
           3,
           2,
           2,
           2,
           2,
           4,
           20,
           2,
           2,
           2,
           2,
           2,
           2,
           2,
           2,
           2,
           1.8,
           2.6,
           1.5,
           1.5,
           1.5,
           2,
           1.5,
           1.5,
           1.35,
           1.22,
           1.22,
           1.2,
           1.1178647,
           1.1,
           2.1,
           1.0055725,
           1,
           2,
           1,
           1,
           1,
           1,
           1,
           1,
           1,
           1,
           1,
           1,
           1,
           1,
           1,
           3,
           1,
           1,
           1,
           1,
           1,
           11,
           1,
           1,
           1,
           2,
           1,
           1,
           1,
           2.6,
           1,
           1,
           1,
           1,
           1,
           1,
           1,
           114,
           1,
           1,
           1,
           1,
           1,
           1,
           1,
           1,
           2,
           1,
           1,
           1,
           1,
           1,
           1,
           2,
           1,
           1,
           1,
           1,
           1,
           1,
           1,
           1,
           1,
           1,
           1,
           1,
           1,
           1,
           1,
           1,
           1,
           1,
           1,
           1,
           1,
           1.5,
           1,
           1,
           1,
           1,
           1,
           1,
           1,
           1,
           1,
           1,
           1,
           2.1,
           1,
           1,
           1,
           1,
           1,
           1,
           1,
           0.88,
           0.8,
           0.8,
           0.8,
           0.8,
           0.8,
           1,
           0.792,
           1.03,
           1.03,
           0.7,
           0.64,
           0.64,
           1.1,
           0.6,
           0.6,
           0.6,
           0.6,
           0.55,
           0.54,
           0.54,
           0.5,
           0.5,
           0.5,
           1.1,
           0.7,
           0.5,
           0.5,
           0.5,
           2,
           0.5,
           0.5,
           0.5,
           0.5,
           0.5,
           1.5,
           0.35,
           0.35,
           0.34,
           0.333335,
           0.333333,
           0.333333,
           0.33,
           1.03,
           0.3,
           0.3,
           0.3,
           1.03,
           0.3,
           0.3,
           0.3,
           0.3,
           1.079778,
           0.25,
           0.25,
           0.216754,
           0.21,
           0.2,
           0.2,
           0.2,
           0.2,
           0.2,
           0.7,
           0.2,
           0.2,
           0.2,
           0.2,
           0.2,
           0.2,
           0.2,
           0.2,
           0.2,
           0.2,
           0.2,
           0.2,
           0.2,
           1,
           0.2,
           0.2,
           0.2,
           0.2,
           0.2,
           0.2,
           0.2,
           0.2,
           0.2,
           0.2,
           0.1958,
           0.193998,
           1.079778,
           0.18,
           0.18,
           0.17222,
           0.17,
           0.16,
           1.079778,
           1.079778,
           0.15257176,
           1.079778,
           1.079778
          ],
          "sizemode": "area",
          "sizeref": 1.86875,
          "symbol": "circle"
         },
         "mode": "markers",
         "name": "",
         "orientation": "v",
         "showlegend": false,
         "type": "scatter",
         "x": [
          49,
          38,
          62,
          70,
          57,
          70,
          52,
          68,
          55,
          63,
          39,
          77,
          53,
          67,
          39,
          48,
          72,
          50,
          77,
          82,
          61,
          68,
          68,
          62,
          49,
          50,
          62,
          48,
          51,
          65,
          61,
          45,
          69,
          80,
          49,
          77,
          56,
          53,
          74,
          39,
          42,
          45,
          65,
          51,
          72,
          48,
          41,
          65,
          43,
          42,
          64,
          64,
          45,
          55,
          49,
          42,
          47,
          56,
          56,
          57,
          53,
          48,
          59,
          60,
          51,
          54,
          54,
          55,
          81,
          74,
          73,
          46,
          47,
          54,
          60,
          74,
          42,
          77,
          66,
          65,
          64,
          50,
          80,
          61,
          81,
          47,
          53,
          39,
          67,
          79,
          46,
          39,
          40,
          50,
          62,
          67,
          39,
          72,
          50,
          42,
          63,
          69,
          72,
          74,
          48,
          39,
          67,
          75,
          60,
          45,
          45,
          72,
          60,
          39,
          55,
          60,
          83,
          64,
          81,
          82,
          73,
          80,
          51,
          76,
          82,
          40,
          43,
          61,
          50,
          55,
          58,
          61,
          68,
          76,
          67,
          49,
          78,
          51,
          40,
          44,
          53,
          56,
          38,
          64,
          52,
          53,
          62,
          78,
          39,
          55,
          59,
          61,
          64,
          64,
          41,
          60,
          83,
          45,
          76,
          53,
          78,
          43,
          43,
          63,
          55,
          56,
          40,
          53,
          56,
          40,
          51,
          77,
          45,
          55,
          57,
          74,
          68,
          62,
          75,
          51,
          41,
          40,
          48,
          63,
          60,
          78,
          53,
          70,
          66,
          59,
          39,
          49,
          83,
          53,
          59,
          71,
          59,
          83,
          54,
          68,
          81,
          62,
          54,
          73,
          70,
          60,
          50,
          63,
          66,
          50,
          48,
          65,
          42,
          53,
          73,
          38,
          67,
          74,
          67,
          46,
          80,
          80,
          43,
          50,
          68,
          47,
          62,
          40,
          63,
          52,
          44,
          69,
          66,
          81,
          70,
          73,
          76,
          80,
          62,
          68,
          54,
          70,
          59,
          72,
          52,
          80,
          46,
          83,
          62,
          55,
          66,
          42,
          83,
          67,
          67,
          69,
          65,
          62,
          83,
          62,
          75,
          45,
          51,
          66,
          55,
          46,
          42,
          47,
          47,
          47,
          38,
          48,
          78,
          77,
          42,
          51,
          77,
          68,
          52,
          56,
          49,
          59,
          72,
          77,
          57,
          53,
          46,
          53,
          49,
          62,
          81,
          81,
          80,
          45,
          71,
          44,
          68,
          75,
          50,
          53,
          81,
          74,
          64,
          71,
          41,
          55,
          74,
          55,
          66,
          65,
          59,
          70,
          59,
          54,
          60,
          76,
          53,
          69,
          51,
          47,
          72,
          62,
          53,
          80,
          53,
          70,
          76,
          60,
          79,
          67,
          53,
          53,
          69,
          53,
          53
         ],
         "xaxis": "x",
         "y": [
          747.5,
          250,
          114,
          100,
          100,
          100,
          100,
          100,
          107.87196313,
          100,
          100,
          99.999999,
          50,
          50,
          50,
          38,
          32.5,
          20,
          20,
          20,
          20,
          20,
          20,
          20,
          15,
          19,
          10.6,
          10,
          10,
          10,
          10,
          10,
          10,
          10,
          10,
          10,
          10,
          10,
          10,
          10,
          15,
          10,
          10,
          10,
          10,
          10,
          10,
          10,
          11,
          10,
          20,
          20,
          8.12,
          107.87196313,
          7.5,
          7.2,
          7,
          18,
          18,
          6.66,
          6.5,
          6.4992,
          6,
          6,
          6,
          5.5,
          5,
          5,
          5,
          5,
          5,
          5,
          5,
          5,
          5,
          5,
          15,
          5,
          5,
          5,
          5,
          19,
          4,
          3.8,
          3.5,
          3.5,
          3,
          3,
          3,
          3,
          3,
          3,
          3,
          2.999975,
          2.69,
          2.38,
          4,
          2,
          2,
          2,
          2,
          2,
          2,
          2,
          2,
          2,
          2,
          2,
          3,
          2,
          2,
          2,
          2,
          4,
          20,
          2,
          2,
          2,
          2,
          2,
          2,
          2,
          2,
          2,
          1.8,
          2.6,
          1.5,
          1.5,
          1.5,
          2,
          1.5,
          1.5,
          1.35,
          1.22,
          1.22,
          1.2,
          1.1178647,
          1.1,
          2.1,
          1.0055725,
          1,
          2,
          1,
          1,
          1,
          1,
          1,
          1,
          1,
          1,
          1,
          1,
          1,
          1,
          1,
          3,
          1,
          1,
          1,
          1,
          1,
          11,
          1,
          1,
          1,
          2,
          1,
          1,
          1,
          2.6,
          1,
          1,
          1,
          1,
          1,
          1,
          1,
          114,
          1,
          1,
          1,
          1,
          1,
          1,
          1,
          1,
          2,
          1,
          1,
          1,
          1,
          1,
          1,
          2,
          1,
          1,
          1,
          1,
          1,
          1,
          1,
          1,
          1,
          1,
          1,
          1,
          1,
          1,
          1,
          1,
          1,
          1,
          1,
          1,
          1,
          1.5,
          1,
          1,
          1,
          1,
          1,
          1,
          1,
          1,
          1,
          1,
          1,
          2.1,
          1,
          1,
          1,
          1,
          1,
          1,
          1,
          0.88,
          0.8,
          0.8,
          0.8,
          0.8,
          0.8,
          1,
          0.792,
          1.03,
          1.03,
          0.7,
          0.64,
          0.64,
          1.1,
          0.6,
          0.6,
          0.6,
          0.6,
          0.55,
          0.54,
          0.54,
          0.5,
          0.5,
          0.5,
          1.1,
          0.7,
          0.5,
          0.5,
          0.5,
          2,
          0.5,
          0.5,
          0.5,
          0.5,
          0.5,
          1.5,
          0.35,
          0.35,
          0.34,
          0.333335,
          0.333333,
          0.333333,
          0.33,
          1.03,
          0.3,
          0.3,
          0.3,
          1.03,
          0.3,
          0.3,
          0.3,
          0.3,
          1.079778,
          0.25,
          0.25,
          0.216754,
          0.21,
          0.2,
          0.2,
          0.2,
          0.2,
          0.2,
          0.7,
          0.2,
          0.2,
          0.2,
          0.2,
          0.2,
          0.2,
          0.2,
          0.2,
          0.2,
          0.2,
          0.2,
          0.2,
          0.2,
          1,
          0.2,
          0.2,
          0.2,
          0.2,
          0.2,
          0.2,
          0.2,
          0.2,
          0.2,
          0.2,
          0.1958,
          0.193998,
          1.079778,
          0.18,
          0.18,
          0.17222,
          0.17,
          0.16,
          1.079778,
          1.079778,
          0.15257176,
          1.079778,
          1.079778
         ],
         "yaxis": "y"
        }
       ],
       "layout": {
        "coloraxis": {
         "colorbar": {
          "title": {
           "text": "Total Amount"
          }
         },
         "colorscale": [
          [
           0,
           "#0d0887"
          ],
          [
           0.1111111111111111,
           "#46039f"
          ],
          [
           0.2222222222222222,
           "#7201a8"
          ],
          [
           0.3333333333333333,
           "#9c179e"
          ],
          [
           0.4444444444444444,
           "#bd3786"
          ],
          [
           0.5555555555555556,
           "#d8576b"
          ],
          [
           0.6666666666666666,
           "#ed7953"
          ],
          [
           0.7777777777777778,
           "#fb9f3a"
          ],
          [
           0.8888888888888888,
           "#fdca26"
          ],
          [
           1,
           "#f0f921"
          ]
         ]
        },
        "legend": {
         "itemsizing": "constant",
         "tracegroupgap": 0
        },
        "template": {
         "data": {
          "bar": [
           {
            "error_x": {
             "color": "#2a3f5f"
            },
            "error_y": {
             "color": "#2a3f5f"
            },
            "marker": {
             "line": {
              "color": "#E5ECF6",
              "width": 0.5
             },
             "pattern": {
              "fillmode": "overlay",
              "size": 10,
              "solidity": 0.2
             }
            },
            "type": "bar"
           }
          ],
          "barpolar": [
           {
            "marker": {
             "line": {
              "color": "#E5ECF6",
              "width": 0.5
             },
             "pattern": {
              "fillmode": "overlay",
              "size": 10,
              "solidity": 0.2
             }
            },
            "type": "barpolar"
           }
          ],
          "carpet": [
           {
            "aaxis": {
             "endlinecolor": "#2a3f5f",
             "gridcolor": "white",
             "linecolor": "white",
             "minorgridcolor": "white",
             "startlinecolor": "#2a3f5f"
            },
            "baxis": {
             "endlinecolor": "#2a3f5f",
             "gridcolor": "white",
             "linecolor": "white",
             "minorgridcolor": "white",
             "startlinecolor": "#2a3f5f"
            },
            "type": "carpet"
           }
          ],
          "choropleth": [
           {
            "colorbar": {
             "outlinewidth": 0,
             "ticks": ""
            },
            "type": "choropleth"
           }
          ],
          "contour": [
           {
            "colorbar": {
             "outlinewidth": 0,
             "ticks": ""
            },
            "colorscale": [
             [
              0,
              "#0d0887"
             ],
             [
              0.1111111111111111,
              "#46039f"
             ],
             [
              0.2222222222222222,
              "#7201a8"
             ],
             [
              0.3333333333333333,
              "#9c179e"
             ],
             [
              0.4444444444444444,
              "#bd3786"
             ],
             [
              0.5555555555555556,
              "#d8576b"
             ],
             [
              0.6666666666666666,
              "#ed7953"
             ],
             [
              0.7777777777777778,
              "#fb9f3a"
             ],
             [
              0.8888888888888888,
              "#fdca26"
             ],
             [
              1,
              "#f0f921"
             ]
            ],
            "type": "contour"
           }
          ],
          "contourcarpet": [
           {
            "colorbar": {
             "outlinewidth": 0,
             "ticks": ""
            },
            "type": "contourcarpet"
           }
          ],
          "heatmap": [
           {
            "colorbar": {
             "outlinewidth": 0,
             "ticks": ""
            },
            "colorscale": [
             [
              0,
              "#0d0887"
             ],
             [
              0.1111111111111111,
              "#46039f"
             ],
             [
              0.2222222222222222,
              "#7201a8"
             ],
             [
              0.3333333333333333,
              "#9c179e"
             ],
             [
              0.4444444444444444,
              "#bd3786"
             ],
             [
              0.5555555555555556,
              "#d8576b"
             ],
             [
              0.6666666666666666,
              "#ed7953"
             ],
             [
              0.7777777777777778,
              "#fb9f3a"
             ],
             [
              0.8888888888888888,
              "#fdca26"
             ],
             [
              1,
              "#f0f921"
             ]
            ],
            "type": "heatmap"
           }
          ],
          "heatmapgl": [
           {
            "colorbar": {
             "outlinewidth": 0,
             "ticks": ""
            },
            "colorscale": [
             [
              0,
              "#0d0887"
             ],
             [
              0.1111111111111111,
              "#46039f"
             ],
             [
              0.2222222222222222,
              "#7201a8"
             ],
             [
              0.3333333333333333,
              "#9c179e"
             ],
             [
              0.4444444444444444,
              "#bd3786"
             ],
             [
              0.5555555555555556,
              "#d8576b"
             ],
             [
              0.6666666666666666,
              "#ed7953"
             ],
             [
              0.7777777777777778,
              "#fb9f3a"
             ],
             [
              0.8888888888888888,
              "#fdca26"
             ],
             [
              1,
              "#f0f921"
             ]
            ],
            "type": "heatmapgl"
           }
          ],
          "histogram": [
           {
            "marker": {
             "pattern": {
              "fillmode": "overlay",
              "size": 10,
              "solidity": 0.2
             }
            },
            "type": "histogram"
           }
          ],
          "histogram2d": [
           {
            "colorbar": {
             "outlinewidth": 0,
             "ticks": ""
            },
            "colorscale": [
             [
              0,
              "#0d0887"
             ],
             [
              0.1111111111111111,
              "#46039f"
             ],
             [
              0.2222222222222222,
              "#7201a8"
             ],
             [
              0.3333333333333333,
              "#9c179e"
             ],
             [
              0.4444444444444444,
              "#bd3786"
             ],
             [
              0.5555555555555556,
              "#d8576b"
             ],
             [
              0.6666666666666666,
              "#ed7953"
             ],
             [
              0.7777777777777778,
              "#fb9f3a"
             ],
             [
              0.8888888888888888,
              "#fdca26"
             ],
             [
              1,
              "#f0f921"
             ]
            ],
            "type": "histogram2d"
           }
          ],
          "histogram2dcontour": [
           {
            "colorbar": {
             "outlinewidth": 0,
             "ticks": ""
            },
            "colorscale": [
             [
              0,
              "#0d0887"
             ],
             [
              0.1111111111111111,
              "#46039f"
             ],
             [
              0.2222222222222222,
              "#7201a8"
             ],
             [
              0.3333333333333333,
              "#9c179e"
             ],
             [
              0.4444444444444444,
              "#bd3786"
             ],
             [
              0.5555555555555556,
              "#d8576b"
             ],
             [
              0.6666666666666666,
              "#ed7953"
             ],
             [
              0.7777777777777778,
              "#fb9f3a"
             ],
             [
              0.8888888888888888,
              "#fdca26"
             ],
             [
              1,
              "#f0f921"
             ]
            ],
            "type": "histogram2dcontour"
           }
          ],
          "mesh3d": [
           {
            "colorbar": {
             "outlinewidth": 0,
             "ticks": ""
            },
            "type": "mesh3d"
           }
          ],
          "parcoords": [
           {
            "line": {
             "colorbar": {
              "outlinewidth": 0,
              "ticks": ""
             }
            },
            "type": "parcoords"
           }
          ],
          "pie": [
           {
            "automargin": true,
            "type": "pie"
           }
          ],
          "scatter": [
           {
            "fillpattern": {
             "fillmode": "overlay",
             "size": 10,
             "solidity": 0.2
            },
            "type": "scatter"
           }
          ],
          "scatter3d": [
           {
            "line": {
             "colorbar": {
              "outlinewidth": 0,
              "ticks": ""
             }
            },
            "marker": {
             "colorbar": {
              "outlinewidth": 0,
              "ticks": ""
             }
            },
            "type": "scatter3d"
           }
          ],
          "scattercarpet": [
           {
            "marker": {
             "colorbar": {
              "outlinewidth": 0,
              "ticks": ""
             }
            },
            "type": "scattercarpet"
           }
          ],
          "scattergeo": [
           {
            "marker": {
             "colorbar": {
              "outlinewidth": 0,
              "ticks": ""
             }
            },
            "type": "scattergeo"
           }
          ],
          "scattergl": [
           {
            "marker": {
             "colorbar": {
              "outlinewidth": 0,
              "ticks": ""
             }
            },
            "type": "scattergl"
           }
          ],
          "scattermapbox": [
           {
            "marker": {
             "colorbar": {
              "outlinewidth": 0,
              "ticks": ""
             }
            },
            "type": "scattermapbox"
           }
          ],
          "scatterpolar": [
           {
            "marker": {
             "colorbar": {
              "outlinewidth": 0,
              "ticks": ""
             }
            },
            "type": "scatterpolar"
           }
          ],
          "scatterpolargl": [
           {
            "marker": {
             "colorbar": {
              "outlinewidth": 0,
              "ticks": ""
             }
            },
            "type": "scatterpolargl"
           }
          ],
          "scatterternary": [
           {
            "marker": {
             "colorbar": {
              "outlinewidth": 0,
              "ticks": ""
             }
            },
            "type": "scatterternary"
           }
          ],
          "surface": [
           {
            "colorbar": {
             "outlinewidth": 0,
             "ticks": ""
            },
            "colorscale": [
             [
              0,
              "#0d0887"
             ],
             [
              0.1111111111111111,
              "#46039f"
             ],
             [
              0.2222222222222222,
              "#7201a8"
             ],
             [
              0.3333333333333333,
              "#9c179e"
             ],
             [
              0.4444444444444444,
              "#bd3786"
             ],
             [
              0.5555555555555556,
              "#d8576b"
             ],
             [
              0.6666666666666666,
              "#ed7953"
             ],
             [
              0.7777777777777778,
              "#fb9f3a"
             ],
             [
              0.8888888888888888,
              "#fdca26"
             ],
             [
              1,
              "#f0f921"
             ]
            ],
            "type": "surface"
           }
          ],
          "table": [
           {
            "cells": {
             "fill": {
              "color": "#EBF0F8"
             },
             "line": {
              "color": "white"
             }
            },
            "header": {
             "fill": {
              "color": "#C8D4E3"
             },
             "line": {
              "color": "white"
             }
            },
            "type": "table"
           }
          ]
         },
         "layout": {
          "annotationdefaults": {
           "arrowcolor": "#2a3f5f",
           "arrowhead": 0,
           "arrowwidth": 1
          },
          "autotypenumbers": "strict",
          "coloraxis": {
           "colorbar": {
            "outlinewidth": 0,
            "ticks": ""
           }
          },
          "colorscale": {
           "diverging": [
            [
             0,
             "#8e0152"
            ],
            [
             0.1,
             "#c51b7d"
            ],
            [
             0.2,
             "#de77ae"
            ],
            [
             0.3,
             "#f1b6da"
            ],
            [
             0.4,
             "#fde0ef"
            ],
            [
             0.5,
             "#f7f7f7"
            ],
            [
             0.6,
             "#e6f5d0"
            ],
            [
             0.7,
             "#b8e186"
            ],
            [
             0.8,
             "#7fbc41"
            ],
            [
             0.9,
             "#4d9221"
            ],
            [
             1,
             "#276419"
            ]
           ],
           "sequential": [
            [
             0,
             "#0d0887"
            ],
            [
             0.1111111111111111,
             "#46039f"
            ],
            [
             0.2222222222222222,
             "#7201a8"
            ],
            [
             0.3333333333333333,
             "#9c179e"
            ],
            [
             0.4444444444444444,
             "#bd3786"
            ],
            [
             0.5555555555555556,
             "#d8576b"
            ],
            [
             0.6666666666666666,
             "#ed7953"
            ],
            [
             0.7777777777777778,
             "#fb9f3a"
            ],
            [
             0.8888888888888888,
             "#fdca26"
            ],
            [
             1,
             "#f0f921"
            ]
           ],
           "sequentialminus": [
            [
             0,
             "#0d0887"
            ],
            [
             0.1111111111111111,
             "#46039f"
            ],
            [
             0.2222222222222222,
             "#7201a8"
            ],
            [
             0.3333333333333333,
             "#9c179e"
            ],
            [
             0.4444444444444444,
             "#bd3786"
            ],
            [
             0.5555555555555556,
             "#d8576b"
            ],
            [
             0.6666666666666666,
             "#ed7953"
            ],
            [
             0.7777777777777778,
             "#fb9f3a"
            ],
            [
             0.8888888888888888,
             "#fdca26"
            ],
            [
             1,
             "#f0f921"
            ]
           ]
          },
          "colorway": [
           "#636efa",
           "#EF553B",
           "#00cc96",
           "#ab63fa",
           "#FFA15A",
           "#19d3f3",
           "#FF6692",
           "#B6E880",
           "#FF97FF",
           "#FECB52"
          ],
          "font": {
           "color": "#2a3f5f"
          },
          "geo": {
           "bgcolor": "white",
           "lakecolor": "white",
           "landcolor": "#E5ECF6",
           "showlakes": true,
           "showland": true,
           "subunitcolor": "white"
          },
          "hoverlabel": {
           "align": "left"
          },
          "hovermode": "closest",
          "mapbox": {
           "style": "light"
          },
          "paper_bgcolor": "white",
          "plot_bgcolor": "#E5ECF6",
          "polar": {
           "angularaxis": {
            "gridcolor": "white",
            "linecolor": "white",
            "ticks": ""
           },
           "bgcolor": "#E5ECF6",
           "radialaxis": {
            "gridcolor": "white",
            "linecolor": "white",
            "ticks": ""
           }
          },
          "scene": {
           "xaxis": {
            "backgroundcolor": "#E5ECF6",
            "gridcolor": "white",
            "gridwidth": 2,
            "linecolor": "white",
            "showbackground": true,
            "ticks": "",
            "zerolinecolor": "white"
           },
           "yaxis": {
            "backgroundcolor": "#E5ECF6",
            "gridcolor": "white",
            "gridwidth": 2,
            "linecolor": "white",
            "showbackground": true,
            "ticks": "",
            "zerolinecolor": "white"
           },
           "zaxis": {
            "backgroundcolor": "#E5ECF6",
            "gridcolor": "white",
            "gridwidth": 2,
            "linecolor": "white",
            "showbackground": true,
            "ticks": "",
            "zerolinecolor": "white"
           }
          },
          "shapedefaults": {
           "line": {
            "color": "#2a3f5f"
           }
          },
          "ternary": {
           "aaxis": {
            "gridcolor": "white",
            "linecolor": "white",
            "ticks": ""
           },
           "baxis": {
            "gridcolor": "white",
            "linecolor": "white",
            "ticks": ""
           },
           "bgcolor": "#E5ECF6",
           "caxis": {
            "gridcolor": "white",
            "linecolor": "white",
            "ticks": ""
           }
          },
          "title": {
           "x": 0.05
          },
          "xaxis": {
           "automargin": true,
           "gridcolor": "white",
           "linecolor": "white",
           "ticks": "",
           "title": {
            "standoff": 15
           },
           "zerolinecolor": "white",
           "zerolinewidth": 2
          },
          "yaxis": {
           "automargin": true,
           "gridcolor": "white",
           "linecolor": "white",
           "ticks": "",
           "title": {
            "standoff": 15
           },
           "zerolinecolor": "white",
           "zerolinewidth": 2
          }
         }
        },
        "title": {
         "text": "Donation Amount vs Age"
        },
        "xaxis": {
         "anchor": "y",
         "domain": [
          0,
          1
         ],
         "title": {
          "text": "Age"
         }
        },
        "yaxis": {
         "anchor": "x",
         "domain": [
          0,
          1
         ],
         "title": {
          "text": "Donation Amount"
         }
        }
       }
      }
     },
     "metadata": {},
     "output_type": "display_data"
    }
   ],
   "source": [
    "fig = px.scatter(individual, x='Age', y='Total Amount', size='Total Amount', color='Total Amount',\n",
    "                 hover_name='Name (CN)', hover_data={'Age': True, 'Total Amount': ':.2f'},\n",
    "                 title='Donation Amount vs Age')\n",
    "\n",
    "fig.update_xaxes(title='Age')\n",
    "fig.update_yaxes(title='Donation Amount')\n",
    "\n",
    "fig.show()"
   ]
  },
  {
   "attachments": {},
   "cell_type": "markdown",
   "metadata": {},
   "source": [
    "## 2. Distribution of donations by Industry: You can analyze the \"Industry\" column to see donations by industry."
   ]
  },
  {
   "cell_type": "code",
   "execution_count": 191,
   "metadata": {},
   "outputs": [
    {
     "data": {
      "application/vnd.plotly.v1+json": {
       "config": {
        "plotlyServerURL": "https://plot.ly"
       },
       "data": [
        {
         "domain": {
          "x": [
           0,
           1
          ],
          "y": [
           0,
           1
          ]
         },
         "hovertemplate": "Industry=%{label}<br>Total Amount=%{value}<extra></extra>",
         "labels": [
          "Construction and Civil Engineering",
          "Consumer",
          "Education",
          "Energy",
          "Entertainment",
          "Environment",
          "Finance",
          "Healthcare",
          "Manufacturing",
          "Real Estate",
          "Service",
          "Software and Internet",
          "Transportation and Logistics"
         ],
         "legendgroup": "",
         "name": "",
         "showlegend": true,
         "type": "pie",
         "values": [
          20.71,
          422.38294378,
          45.80664215,
          16.5,
          334.75444335,
          32,
          607.08,
          213.42,
          1477.88,
          2066.25,
          162,
          1508.37196213,
          5.1
         ]
        }
       ],
       "layout": {
        "legend": {
         "tracegroupgap": 0
        },
        "template": {
         "data": {
          "bar": [
           {
            "error_x": {
             "color": "#2a3f5f"
            },
            "error_y": {
             "color": "#2a3f5f"
            },
            "marker": {
             "line": {
              "color": "#E5ECF6",
              "width": 0.5
             },
             "pattern": {
              "fillmode": "overlay",
              "size": 10,
              "solidity": 0.2
             }
            },
            "type": "bar"
           }
          ],
          "barpolar": [
           {
            "marker": {
             "line": {
              "color": "#E5ECF6",
              "width": 0.5
             },
             "pattern": {
              "fillmode": "overlay",
              "size": 10,
              "solidity": 0.2
             }
            },
            "type": "barpolar"
           }
          ],
          "carpet": [
           {
            "aaxis": {
             "endlinecolor": "#2a3f5f",
             "gridcolor": "white",
             "linecolor": "white",
             "minorgridcolor": "white",
             "startlinecolor": "#2a3f5f"
            },
            "baxis": {
             "endlinecolor": "#2a3f5f",
             "gridcolor": "white",
             "linecolor": "white",
             "minorgridcolor": "white",
             "startlinecolor": "#2a3f5f"
            },
            "type": "carpet"
           }
          ],
          "choropleth": [
           {
            "colorbar": {
             "outlinewidth": 0,
             "ticks": ""
            },
            "type": "choropleth"
           }
          ],
          "contour": [
           {
            "colorbar": {
             "outlinewidth": 0,
             "ticks": ""
            },
            "colorscale": [
             [
              0,
              "#0d0887"
             ],
             [
              0.1111111111111111,
              "#46039f"
             ],
             [
              0.2222222222222222,
              "#7201a8"
             ],
             [
              0.3333333333333333,
              "#9c179e"
             ],
             [
              0.4444444444444444,
              "#bd3786"
             ],
             [
              0.5555555555555556,
              "#d8576b"
             ],
             [
              0.6666666666666666,
              "#ed7953"
             ],
             [
              0.7777777777777778,
              "#fb9f3a"
             ],
             [
              0.8888888888888888,
              "#fdca26"
             ],
             [
              1,
              "#f0f921"
             ]
            ],
            "type": "contour"
           }
          ],
          "contourcarpet": [
           {
            "colorbar": {
             "outlinewidth": 0,
             "ticks": ""
            },
            "type": "contourcarpet"
           }
          ],
          "heatmap": [
           {
            "colorbar": {
             "outlinewidth": 0,
             "ticks": ""
            },
            "colorscale": [
             [
              0,
              "#0d0887"
             ],
             [
              0.1111111111111111,
              "#46039f"
             ],
             [
              0.2222222222222222,
              "#7201a8"
             ],
             [
              0.3333333333333333,
              "#9c179e"
             ],
             [
              0.4444444444444444,
              "#bd3786"
             ],
             [
              0.5555555555555556,
              "#d8576b"
             ],
             [
              0.6666666666666666,
              "#ed7953"
             ],
             [
              0.7777777777777778,
              "#fb9f3a"
             ],
             [
              0.8888888888888888,
              "#fdca26"
             ],
             [
              1,
              "#f0f921"
             ]
            ],
            "type": "heatmap"
           }
          ],
          "heatmapgl": [
           {
            "colorbar": {
             "outlinewidth": 0,
             "ticks": ""
            },
            "colorscale": [
             [
              0,
              "#0d0887"
             ],
             [
              0.1111111111111111,
              "#46039f"
             ],
             [
              0.2222222222222222,
              "#7201a8"
             ],
             [
              0.3333333333333333,
              "#9c179e"
             ],
             [
              0.4444444444444444,
              "#bd3786"
             ],
             [
              0.5555555555555556,
              "#d8576b"
             ],
             [
              0.6666666666666666,
              "#ed7953"
             ],
             [
              0.7777777777777778,
              "#fb9f3a"
             ],
             [
              0.8888888888888888,
              "#fdca26"
             ],
             [
              1,
              "#f0f921"
             ]
            ],
            "type": "heatmapgl"
           }
          ],
          "histogram": [
           {
            "marker": {
             "pattern": {
              "fillmode": "overlay",
              "size": 10,
              "solidity": 0.2
             }
            },
            "type": "histogram"
           }
          ],
          "histogram2d": [
           {
            "colorbar": {
             "outlinewidth": 0,
             "ticks": ""
            },
            "colorscale": [
             [
              0,
              "#0d0887"
             ],
             [
              0.1111111111111111,
              "#46039f"
             ],
             [
              0.2222222222222222,
              "#7201a8"
             ],
             [
              0.3333333333333333,
              "#9c179e"
             ],
             [
              0.4444444444444444,
              "#bd3786"
             ],
             [
              0.5555555555555556,
              "#d8576b"
             ],
             [
              0.6666666666666666,
              "#ed7953"
             ],
             [
              0.7777777777777778,
              "#fb9f3a"
             ],
             [
              0.8888888888888888,
              "#fdca26"
             ],
             [
              1,
              "#f0f921"
             ]
            ],
            "type": "histogram2d"
           }
          ],
          "histogram2dcontour": [
           {
            "colorbar": {
             "outlinewidth": 0,
             "ticks": ""
            },
            "colorscale": [
             [
              0,
              "#0d0887"
             ],
             [
              0.1111111111111111,
              "#46039f"
             ],
             [
              0.2222222222222222,
              "#7201a8"
             ],
             [
              0.3333333333333333,
              "#9c179e"
             ],
             [
              0.4444444444444444,
              "#bd3786"
             ],
             [
              0.5555555555555556,
              "#d8576b"
             ],
             [
              0.6666666666666666,
              "#ed7953"
             ],
             [
              0.7777777777777778,
              "#fb9f3a"
             ],
             [
              0.8888888888888888,
              "#fdca26"
             ],
             [
              1,
              "#f0f921"
             ]
            ],
            "type": "histogram2dcontour"
           }
          ],
          "mesh3d": [
           {
            "colorbar": {
             "outlinewidth": 0,
             "ticks": ""
            },
            "type": "mesh3d"
           }
          ],
          "parcoords": [
           {
            "line": {
             "colorbar": {
              "outlinewidth": 0,
              "ticks": ""
             }
            },
            "type": "parcoords"
           }
          ],
          "pie": [
           {
            "automargin": true,
            "type": "pie"
           }
          ],
          "scatter": [
           {
            "fillpattern": {
             "fillmode": "overlay",
             "size": 10,
             "solidity": 0.2
            },
            "type": "scatter"
           }
          ],
          "scatter3d": [
           {
            "line": {
             "colorbar": {
              "outlinewidth": 0,
              "ticks": ""
             }
            },
            "marker": {
             "colorbar": {
              "outlinewidth": 0,
              "ticks": ""
             }
            },
            "type": "scatter3d"
           }
          ],
          "scattercarpet": [
           {
            "marker": {
             "colorbar": {
              "outlinewidth": 0,
              "ticks": ""
             }
            },
            "type": "scattercarpet"
           }
          ],
          "scattergeo": [
           {
            "marker": {
             "colorbar": {
              "outlinewidth": 0,
              "ticks": ""
             }
            },
            "type": "scattergeo"
           }
          ],
          "scattergl": [
           {
            "marker": {
             "colorbar": {
              "outlinewidth": 0,
              "ticks": ""
             }
            },
            "type": "scattergl"
           }
          ],
          "scattermapbox": [
           {
            "marker": {
             "colorbar": {
              "outlinewidth": 0,
              "ticks": ""
             }
            },
            "type": "scattermapbox"
           }
          ],
          "scatterpolar": [
           {
            "marker": {
             "colorbar": {
              "outlinewidth": 0,
              "ticks": ""
             }
            },
            "type": "scatterpolar"
           }
          ],
          "scatterpolargl": [
           {
            "marker": {
             "colorbar": {
              "outlinewidth": 0,
              "ticks": ""
             }
            },
            "type": "scatterpolargl"
           }
          ],
          "scatterternary": [
           {
            "marker": {
             "colorbar": {
              "outlinewidth": 0,
              "ticks": ""
             }
            },
            "type": "scatterternary"
           }
          ],
          "surface": [
           {
            "colorbar": {
             "outlinewidth": 0,
             "ticks": ""
            },
            "colorscale": [
             [
              0,
              "#0d0887"
             ],
             [
              0.1111111111111111,
              "#46039f"
             ],
             [
              0.2222222222222222,
              "#7201a8"
             ],
             [
              0.3333333333333333,
              "#9c179e"
             ],
             [
              0.4444444444444444,
              "#bd3786"
             ],
             [
              0.5555555555555556,
              "#d8576b"
             ],
             [
              0.6666666666666666,
              "#ed7953"
             ],
             [
              0.7777777777777778,
              "#fb9f3a"
             ],
             [
              0.8888888888888888,
              "#fdca26"
             ],
             [
              1,
              "#f0f921"
             ]
            ],
            "type": "surface"
           }
          ],
          "table": [
           {
            "cells": {
             "fill": {
              "color": "#EBF0F8"
             },
             "line": {
              "color": "white"
             }
            },
            "header": {
             "fill": {
              "color": "#C8D4E3"
             },
             "line": {
              "color": "white"
             }
            },
            "type": "table"
           }
          ]
         },
         "layout": {
          "annotationdefaults": {
           "arrowcolor": "#2a3f5f",
           "arrowhead": 0,
           "arrowwidth": 1
          },
          "autotypenumbers": "strict",
          "coloraxis": {
           "colorbar": {
            "outlinewidth": 0,
            "ticks": ""
           }
          },
          "colorscale": {
           "diverging": [
            [
             0,
             "#8e0152"
            ],
            [
             0.1,
             "#c51b7d"
            ],
            [
             0.2,
             "#de77ae"
            ],
            [
             0.3,
             "#f1b6da"
            ],
            [
             0.4,
             "#fde0ef"
            ],
            [
             0.5,
             "#f7f7f7"
            ],
            [
             0.6,
             "#e6f5d0"
            ],
            [
             0.7,
             "#b8e186"
            ],
            [
             0.8,
             "#7fbc41"
            ],
            [
             0.9,
             "#4d9221"
            ],
            [
             1,
             "#276419"
            ]
           ],
           "sequential": [
            [
             0,
             "#0d0887"
            ],
            [
             0.1111111111111111,
             "#46039f"
            ],
            [
             0.2222222222222222,
             "#7201a8"
            ],
            [
             0.3333333333333333,
             "#9c179e"
            ],
            [
             0.4444444444444444,
             "#bd3786"
            ],
            [
             0.5555555555555556,
             "#d8576b"
            ],
            [
             0.6666666666666666,
             "#ed7953"
            ],
            [
             0.7777777777777778,
             "#fb9f3a"
            ],
            [
             0.8888888888888888,
             "#fdca26"
            ],
            [
             1,
             "#f0f921"
            ]
           ],
           "sequentialminus": [
            [
             0,
             "#0d0887"
            ],
            [
             0.1111111111111111,
             "#46039f"
            ],
            [
             0.2222222222222222,
             "#7201a8"
            ],
            [
             0.3333333333333333,
             "#9c179e"
            ],
            [
             0.4444444444444444,
             "#bd3786"
            ],
            [
             0.5555555555555556,
             "#d8576b"
            ],
            [
             0.6666666666666666,
             "#ed7953"
            ],
            [
             0.7777777777777778,
             "#fb9f3a"
            ],
            [
             0.8888888888888888,
             "#fdca26"
            ],
            [
             1,
             "#f0f921"
            ]
           ]
          },
          "colorway": [
           "#636efa",
           "#EF553B",
           "#00cc96",
           "#ab63fa",
           "#FFA15A",
           "#19d3f3",
           "#FF6692",
           "#B6E880",
           "#FF97FF",
           "#FECB52"
          ],
          "font": {
           "color": "#2a3f5f"
          },
          "geo": {
           "bgcolor": "white",
           "lakecolor": "white",
           "landcolor": "#E5ECF6",
           "showlakes": true,
           "showland": true,
           "subunitcolor": "white"
          },
          "hoverlabel": {
           "align": "left"
          },
          "hovermode": "closest",
          "mapbox": {
           "style": "light"
          },
          "paper_bgcolor": "white",
          "plot_bgcolor": "#E5ECF6",
          "polar": {
           "angularaxis": {
            "gridcolor": "white",
            "linecolor": "white",
            "ticks": ""
           },
           "bgcolor": "#E5ECF6",
           "radialaxis": {
            "gridcolor": "white",
            "linecolor": "white",
            "ticks": ""
           }
          },
          "scene": {
           "xaxis": {
            "backgroundcolor": "#E5ECF6",
            "gridcolor": "white",
            "gridwidth": 2,
            "linecolor": "white",
            "showbackground": true,
            "ticks": "",
            "zerolinecolor": "white"
           },
           "yaxis": {
            "backgroundcolor": "#E5ECF6",
            "gridcolor": "white",
            "gridwidth": 2,
            "linecolor": "white",
            "showbackground": true,
            "ticks": "",
            "zerolinecolor": "white"
           },
           "zaxis": {
            "backgroundcolor": "#E5ECF6",
            "gridcolor": "white",
            "gridwidth": 2,
            "linecolor": "white",
            "showbackground": true,
            "ticks": "",
            "zerolinecolor": "white"
           }
          },
          "shapedefaults": {
           "line": {
            "color": "#2a3f5f"
           }
          },
          "ternary": {
           "aaxis": {
            "gridcolor": "white",
            "linecolor": "white",
            "ticks": ""
           },
           "baxis": {
            "gridcolor": "white",
            "linecolor": "white",
            "ticks": ""
           },
           "bgcolor": "#E5ECF6",
           "caxis": {
            "gridcolor": "white",
            "linecolor": "white",
            "ticks": ""
           }
          },
          "title": {
           "x": 0.05
          },
          "xaxis": {
           "automargin": true,
           "gridcolor": "white",
           "linecolor": "white",
           "ticks": "",
           "title": {
            "standoff": 15
           },
           "zerolinecolor": "white",
           "zerolinewidth": 2
          },
          "yaxis": {
           "automargin": true,
           "gridcolor": "white",
           "linecolor": "white",
           "ticks": "",
           "title": {
            "standoff": 15
           },
           "zerolinecolor": "white",
           "zerolinewidth": 2
          }
         }
        },
        "title": {
         "text": "Industry Donations Distribution"
        }
       }
      }
     },
     "metadata": {},
     "output_type": "display_data"
    }
   ],
   "source": [
    "import plotly.express as px\n",
    "\n",
    "# 对 'Industry' 列进行分组，并计算每个行业的捐款总额\n",
    "industry_donations = composite_rank.groupby('Industry')['Total Amount'].sum().reset_index()\n",
    "\n",
    "# 创建扇形图\n",
    "fig = px.pie(industry_donations, values='Total Amount', names='Industry', title='Industry Donations Distribution')\n",
    "\n",
    "fig.show()"
   ]
  },
  {
   "attachments": {},
   "cell_type": "markdown",
   "metadata": {},
   "source": [
    "3. Analyze the ranking distribution of donations, such as the top 10 donors or organizations, the proportion of their donations, etc"
   ]
  },
  {
   "cell_type": "code",
   "execution_count": 192,
   "metadata": {},
   "outputs": [],
   "source": [
    "# Find out the top 10 donors\n",
    "top_10_donors = composite_rank.head(10)"
   ]
  },
  {
   "cell_type": "code",
   "execution_count": 193,
   "metadata": {},
   "outputs": [],
   "source": [
    "# Calculate the total amount of top 10 donors\n",
    "total_donations = top_10_donors['Total Amount'].sum()"
   ]
  },
  {
   "cell_type": "code",
   "execution_count": 194,
   "metadata": {},
   "outputs": [],
   "source": [
    "# Calculate the percentage of donations made by the top 10 donors or organizations\n",
    "donation_percentages = (top_10_donors['Total Amount'] / total_donations * 100).tolist()"
   ]
  },
  {
   "cell_type": "code",
   "execution_count": 195,
   "metadata": {},
   "outputs": [
    {
     "data": {
      "application/vnd.plotly.v1+json": {
       "config": {
        "plotlyServerURL": "https://plot.ly"
       },
       "data": [
        {
         "hole": 0.4,
         "labels": [
          "恒大集团",
          "建业集团",
          "陈天桥",
          "中国长江三峡集团公司",
          "元林基金会",
          "中国泛海控股集团",
          "劲牌有限公司",
          "海亮集团有限公司",
          "曹德旺",
          "泰禾集团"
         ],
         "pull": [
          0.3,
          0,
          0,
          0,
          0,
          0,
          0,
          0,
          0,
          0
         ],
         "type": "pie",
         "values": [
          20.44585147078222,
          16.488589895792114,
          14.500259937770121,
          11.064813737129201,
          9.699170526936536,
          7.627039735561815,
          5.8195023161619215,
          4.849585263468268,
          4.849585263468268,
          4.6556018529295375
         ]
        }
       ],
       "layout": {
        "template": {
         "data": {
          "bar": [
           {
            "error_x": {
             "color": "#2a3f5f"
            },
            "error_y": {
             "color": "#2a3f5f"
            },
            "marker": {
             "line": {
              "color": "#E5ECF6",
              "width": 0.5
             },
             "pattern": {
              "fillmode": "overlay",
              "size": 10,
              "solidity": 0.2
             }
            },
            "type": "bar"
           }
          ],
          "barpolar": [
           {
            "marker": {
             "line": {
              "color": "#E5ECF6",
              "width": 0.5
             },
             "pattern": {
              "fillmode": "overlay",
              "size": 10,
              "solidity": 0.2
             }
            },
            "type": "barpolar"
           }
          ],
          "carpet": [
           {
            "aaxis": {
             "endlinecolor": "#2a3f5f",
             "gridcolor": "white",
             "linecolor": "white",
             "minorgridcolor": "white",
             "startlinecolor": "#2a3f5f"
            },
            "baxis": {
             "endlinecolor": "#2a3f5f",
             "gridcolor": "white",
             "linecolor": "white",
             "minorgridcolor": "white",
             "startlinecolor": "#2a3f5f"
            },
            "type": "carpet"
           }
          ],
          "choropleth": [
           {
            "colorbar": {
             "outlinewidth": 0,
             "ticks": ""
            },
            "type": "choropleth"
           }
          ],
          "contour": [
           {
            "colorbar": {
             "outlinewidth": 0,
             "ticks": ""
            },
            "colorscale": [
             [
              0,
              "#0d0887"
             ],
             [
              0.1111111111111111,
              "#46039f"
             ],
             [
              0.2222222222222222,
              "#7201a8"
             ],
             [
              0.3333333333333333,
              "#9c179e"
             ],
             [
              0.4444444444444444,
              "#bd3786"
             ],
             [
              0.5555555555555556,
              "#d8576b"
             ],
             [
              0.6666666666666666,
              "#ed7953"
             ],
             [
              0.7777777777777778,
              "#fb9f3a"
             ],
             [
              0.8888888888888888,
              "#fdca26"
             ],
             [
              1,
              "#f0f921"
             ]
            ],
            "type": "contour"
           }
          ],
          "contourcarpet": [
           {
            "colorbar": {
             "outlinewidth": 0,
             "ticks": ""
            },
            "type": "contourcarpet"
           }
          ],
          "heatmap": [
           {
            "colorbar": {
             "outlinewidth": 0,
             "ticks": ""
            },
            "colorscale": [
             [
              0,
              "#0d0887"
             ],
             [
              0.1111111111111111,
              "#46039f"
             ],
             [
              0.2222222222222222,
              "#7201a8"
             ],
             [
              0.3333333333333333,
              "#9c179e"
             ],
             [
              0.4444444444444444,
              "#bd3786"
             ],
             [
              0.5555555555555556,
              "#d8576b"
             ],
             [
              0.6666666666666666,
              "#ed7953"
             ],
             [
              0.7777777777777778,
              "#fb9f3a"
             ],
             [
              0.8888888888888888,
              "#fdca26"
             ],
             [
              1,
              "#f0f921"
             ]
            ],
            "type": "heatmap"
           }
          ],
          "heatmapgl": [
           {
            "colorbar": {
             "outlinewidth": 0,
             "ticks": ""
            },
            "colorscale": [
             [
              0,
              "#0d0887"
             ],
             [
              0.1111111111111111,
              "#46039f"
             ],
             [
              0.2222222222222222,
              "#7201a8"
             ],
             [
              0.3333333333333333,
              "#9c179e"
             ],
             [
              0.4444444444444444,
              "#bd3786"
             ],
             [
              0.5555555555555556,
              "#d8576b"
             ],
             [
              0.6666666666666666,
              "#ed7953"
             ],
             [
              0.7777777777777778,
              "#fb9f3a"
             ],
             [
              0.8888888888888888,
              "#fdca26"
             ],
             [
              1,
              "#f0f921"
             ]
            ],
            "type": "heatmapgl"
           }
          ],
          "histogram": [
           {
            "marker": {
             "pattern": {
              "fillmode": "overlay",
              "size": 10,
              "solidity": 0.2
             }
            },
            "type": "histogram"
           }
          ],
          "histogram2d": [
           {
            "colorbar": {
             "outlinewidth": 0,
             "ticks": ""
            },
            "colorscale": [
             [
              0,
              "#0d0887"
             ],
             [
              0.1111111111111111,
              "#46039f"
             ],
             [
              0.2222222222222222,
              "#7201a8"
             ],
             [
              0.3333333333333333,
              "#9c179e"
             ],
             [
              0.4444444444444444,
              "#bd3786"
             ],
             [
              0.5555555555555556,
              "#d8576b"
             ],
             [
              0.6666666666666666,
              "#ed7953"
             ],
             [
              0.7777777777777778,
              "#fb9f3a"
             ],
             [
              0.8888888888888888,
              "#fdca26"
             ],
             [
              1,
              "#f0f921"
             ]
            ],
            "type": "histogram2d"
           }
          ],
          "histogram2dcontour": [
           {
            "colorbar": {
             "outlinewidth": 0,
             "ticks": ""
            },
            "colorscale": [
             [
              0,
              "#0d0887"
             ],
             [
              0.1111111111111111,
              "#46039f"
             ],
             [
              0.2222222222222222,
              "#7201a8"
             ],
             [
              0.3333333333333333,
              "#9c179e"
             ],
             [
              0.4444444444444444,
              "#bd3786"
             ],
             [
              0.5555555555555556,
              "#d8576b"
             ],
             [
              0.6666666666666666,
              "#ed7953"
             ],
             [
              0.7777777777777778,
              "#fb9f3a"
             ],
             [
              0.8888888888888888,
              "#fdca26"
             ],
             [
              1,
              "#f0f921"
             ]
            ],
            "type": "histogram2dcontour"
           }
          ],
          "mesh3d": [
           {
            "colorbar": {
             "outlinewidth": 0,
             "ticks": ""
            },
            "type": "mesh3d"
           }
          ],
          "parcoords": [
           {
            "line": {
             "colorbar": {
              "outlinewidth": 0,
              "ticks": ""
             }
            },
            "type": "parcoords"
           }
          ],
          "pie": [
           {
            "automargin": true,
            "type": "pie"
           }
          ],
          "scatter": [
           {
            "fillpattern": {
             "fillmode": "overlay",
             "size": 10,
             "solidity": 0.2
            },
            "type": "scatter"
           }
          ],
          "scatter3d": [
           {
            "line": {
             "colorbar": {
              "outlinewidth": 0,
              "ticks": ""
             }
            },
            "marker": {
             "colorbar": {
              "outlinewidth": 0,
              "ticks": ""
             }
            },
            "type": "scatter3d"
           }
          ],
          "scattercarpet": [
           {
            "marker": {
             "colorbar": {
              "outlinewidth": 0,
              "ticks": ""
             }
            },
            "type": "scattercarpet"
           }
          ],
          "scattergeo": [
           {
            "marker": {
             "colorbar": {
              "outlinewidth": 0,
              "ticks": ""
             }
            },
            "type": "scattergeo"
           }
          ],
          "scattergl": [
           {
            "marker": {
             "colorbar": {
              "outlinewidth": 0,
              "ticks": ""
             }
            },
            "type": "scattergl"
           }
          ],
          "scattermapbox": [
           {
            "marker": {
             "colorbar": {
              "outlinewidth": 0,
              "ticks": ""
             }
            },
            "type": "scattermapbox"
           }
          ],
          "scatterpolar": [
           {
            "marker": {
             "colorbar": {
              "outlinewidth": 0,
              "ticks": ""
             }
            },
            "type": "scatterpolar"
           }
          ],
          "scatterpolargl": [
           {
            "marker": {
             "colorbar": {
              "outlinewidth": 0,
              "ticks": ""
             }
            },
            "type": "scatterpolargl"
           }
          ],
          "scatterternary": [
           {
            "marker": {
             "colorbar": {
              "outlinewidth": 0,
              "ticks": ""
             }
            },
            "type": "scatterternary"
           }
          ],
          "surface": [
           {
            "colorbar": {
             "outlinewidth": 0,
             "ticks": ""
            },
            "colorscale": [
             [
              0,
              "#0d0887"
             ],
             [
              0.1111111111111111,
              "#46039f"
             ],
             [
              0.2222222222222222,
              "#7201a8"
             ],
             [
              0.3333333333333333,
              "#9c179e"
             ],
             [
              0.4444444444444444,
              "#bd3786"
             ],
             [
              0.5555555555555556,
              "#d8576b"
             ],
             [
              0.6666666666666666,
              "#ed7953"
             ],
             [
              0.7777777777777778,
              "#fb9f3a"
             ],
             [
              0.8888888888888888,
              "#fdca26"
             ],
             [
              1,
              "#f0f921"
             ]
            ],
            "type": "surface"
           }
          ],
          "table": [
           {
            "cells": {
             "fill": {
              "color": "#EBF0F8"
             },
             "line": {
              "color": "white"
             }
            },
            "header": {
             "fill": {
              "color": "#C8D4E3"
             },
             "line": {
              "color": "white"
             }
            },
            "type": "table"
           }
          ]
         },
         "layout": {
          "annotationdefaults": {
           "arrowcolor": "#2a3f5f",
           "arrowhead": 0,
           "arrowwidth": 1
          },
          "autotypenumbers": "strict",
          "coloraxis": {
           "colorbar": {
            "outlinewidth": 0,
            "ticks": ""
           }
          },
          "colorscale": {
           "diverging": [
            [
             0,
             "#8e0152"
            ],
            [
             0.1,
             "#c51b7d"
            ],
            [
             0.2,
             "#de77ae"
            ],
            [
             0.3,
             "#f1b6da"
            ],
            [
             0.4,
             "#fde0ef"
            ],
            [
             0.5,
             "#f7f7f7"
            ],
            [
             0.6,
             "#e6f5d0"
            ],
            [
             0.7,
             "#b8e186"
            ],
            [
             0.8,
             "#7fbc41"
            ],
            [
             0.9,
             "#4d9221"
            ],
            [
             1,
             "#276419"
            ]
           ],
           "sequential": [
            [
             0,
             "#0d0887"
            ],
            [
             0.1111111111111111,
             "#46039f"
            ],
            [
             0.2222222222222222,
             "#7201a8"
            ],
            [
             0.3333333333333333,
             "#9c179e"
            ],
            [
             0.4444444444444444,
             "#bd3786"
            ],
            [
             0.5555555555555556,
             "#d8576b"
            ],
            [
             0.6666666666666666,
             "#ed7953"
            ],
            [
             0.7777777777777778,
             "#fb9f3a"
            ],
            [
             0.8888888888888888,
             "#fdca26"
            ],
            [
             1,
             "#f0f921"
            ]
           ],
           "sequentialminus": [
            [
             0,
             "#0d0887"
            ],
            [
             0.1111111111111111,
             "#46039f"
            ],
            [
             0.2222222222222222,
             "#7201a8"
            ],
            [
             0.3333333333333333,
             "#9c179e"
            ],
            [
             0.4444444444444444,
             "#bd3786"
            ],
            [
             0.5555555555555556,
             "#d8576b"
            ],
            [
             0.6666666666666666,
             "#ed7953"
            ],
            [
             0.7777777777777778,
             "#fb9f3a"
            ],
            [
             0.8888888888888888,
             "#fdca26"
            ],
            [
             1,
             "#f0f921"
            ]
           ]
          },
          "colorway": [
           "#636efa",
           "#EF553B",
           "#00cc96",
           "#ab63fa",
           "#FFA15A",
           "#19d3f3",
           "#FF6692",
           "#B6E880",
           "#FF97FF",
           "#FECB52"
          ],
          "font": {
           "color": "#2a3f5f"
          },
          "geo": {
           "bgcolor": "white",
           "lakecolor": "white",
           "landcolor": "#E5ECF6",
           "showlakes": true,
           "showland": true,
           "subunitcolor": "white"
          },
          "hoverlabel": {
           "align": "left"
          },
          "hovermode": "closest",
          "mapbox": {
           "style": "light"
          },
          "paper_bgcolor": "white",
          "plot_bgcolor": "#E5ECF6",
          "polar": {
           "angularaxis": {
            "gridcolor": "white",
            "linecolor": "white",
            "ticks": ""
           },
           "bgcolor": "#E5ECF6",
           "radialaxis": {
            "gridcolor": "white",
            "linecolor": "white",
            "ticks": ""
           }
          },
          "scene": {
           "xaxis": {
            "backgroundcolor": "#E5ECF6",
            "gridcolor": "white",
            "gridwidth": 2,
            "linecolor": "white",
            "showbackground": true,
            "ticks": "",
            "zerolinecolor": "white"
           },
           "yaxis": {
            "backgroundcolor": "#E5ECF6",
            "gridcolor": "white",
            "gridwidth": 2,
            "linecolor": "white",
            "showbackground": true,
            "ticks": "",
            "zerolinecolor": "white"
           },
           "zaxis": {
            "backgroundcolor": "#E5ECF6",
            "gridcolor": "white",
            "gridwidth": 2,
            "linecolor": "white",
            "showbackground": true,
            "ticks": "",
            "zerolinecolor": "white"
           }
          },
          "shapedefaults": {
           "line": {
            "color": "#2a3f5f"
           }
          },
          "ternary": {
           "aaxis": {
            "gridcolor": "white",
            "linecolor": "white",
            "ticks": ""
           },
           "baxis": {
            "gridcolor": "white",
            "linecolor": "white",
            "ticks": ""
           },
           "bgcolor": "#E5ECF6",
           "caxis": {
            "gridcolor": "white",
            "linecolor": "white",
            "ticks": ""
           }
          },
          "title": {
           "x": 0.05
          },
          "xaxis": {
           "automargin": true,
           "gridcolor": "white",
           "linecolor": "white",
           "ticks": "",
           "title": {
            "standoff": 15
           },
           "zerolinecolor": "white",
           "zerolinewidth": 2
          },
          "yaxis": {
           "automargin": true,
           "gridcolor": "white",
           "linecolor": "white",
           "ticks": "",
           "title": {
            "standoff": 15
           },
           "zerolinecolor": "white",
           "zerolinewidth": 2
          }
         }
        },
        "title": {
         "text": "Top 10 Donors - Donation Amount Percentage"
        }
       }
      }
     },
     "metadata": {},
     "output_type": "display_data"
    }
   ],
   "source": [
    "labels = top_10_donors['Name']\n",
    "values = donation_percentages\n",
    "pull = [0] * len(labels)  \n",
    "max_percentage = max(donation_percentages)  \n",
    "max_index = donation_percentages.index(max_percentage)  \n",
    "pull[max_index] =0.3\n",
    " \n",
    "fig = go.Figure(data=[go.Pie(labels=labels, values=values, pull=pull,hole=.4)])\n",
    "fig.update_layout(title='Top 10 Donors - Donation Amount Percentage')\n",
    "fig.show()"
   ]
  },
  {
   "cell_type": "code",
   "execution_count": 196,
   "metadata": {},
   "outputs": [
    {
     "name": "stderr",
     "output_type": "stream",
     "text": [
      "/Users/limuqing/anaconda3/envs/tf_env/lib/python3.9/site-packages/IPython/core/pylabtools.py:152: UserWarning:\n",
      "\n",
      "Glyph 24658 (\\N{CJK UNIFIED IDEOGRAPH-6052}) missing from current font.\n",
      "\n",
      "/Users/limuqing/anaconda3/envs/tf_env/lib/python3.9/site-packages/IPython/core/pylabtools.py:152: UserWarning:\n",
      "\n",
      "Glyph 22823 (\\N{CJK UNIFIED IDEOGRAPH-5927}) missing from current font.\n",
      "\n",
      "/Users/limuqing/anaconda3/envs/tf_env/lib/python3.9/site-packages/IPython/core/pylabtools.py:152: UserWarning:\n",
      "\n",
      "Glyph 38598 (\\N{CJK UNIFIED IDEOGRAPH-96C6}) missing from current font.\n",
      "\n",
      "/Users/limuqing/anaconda3/envs/tf_env/lib/python3.9/site-packages/IPython/core/pylabtools.py:152: UserWarning:\n",
      "\n",
      "Glyph 22242 (\\N{CJK UNIFIED IDEOGRAPH-56E2}) missing from current font.\n",
      "\n",
      "/Users/limuqing/anaconda3/envs/tf_env/lib/python3.9/site-packages/IPython/core/pylabtools.py:152: UserWarning:\n",
      "\n",
      "Glyph 24314 (\\N{CJK UNIFIED IDEOGRAPH-5EFA}) missing from current font.\n",
      "\n",
      "/Users/limuqing/anaconda3/envs/tf_env/lib/python3.9/site-packages/IPython/core/pylabtools.py:152: UserWarning:\n",
      "\n",
      "Glyph 19994 (\\N{CJK UNIFIED IDEOGRAPH-4E1A}) missing from current font.\n",
      "\n",
      "/Users/limuqing/anaconda3/envs/tf_env/lib/python3.9/site-packages/IPython/core/pylabtools.py:152: UserWarning:\n",
      "\n",
      "Glyph 38472 (\\N{CJK UNIFIED IDEOGRAPH-9648}) missing from current font.\n",
      "\n",
      "/Users/limuqing/anaconda3/envs/tf_env/lib/python3.9/site-packages/IPython/core/pylabtools.py:152: UserWarning:\n",
      "\n",
      "Glyph 22825 (\\N{CJK UNIFIED IDEOGRAPH-5929}) missing from current font.\n",
      "\n",
      "/Users/limuqing/anaconda3/envs/tf_env/lib/python3.9/site-packages/IPython/core/pylabtools.py:152: UserWarning:\n",
      "\n",
      "Glyph 26725 (\\N{CJK UNIFIED IDEOGRAPH-6865}) missing from current font.\n",
      "\n",
      "/Users/limuqing/anaconda3/envs/tf_env/lib/python3.9/site-packages/IPython/core/pylabtools.py:152: UserWarning:\n",
      "\n",
      "Glyph 20013 (\\N{CJK UNIFIED IDEOGRAPH-4E2D}) missing from current font.\n",
      "\n",
      "/Users/limuqing/anaconda3/envs/tf_env/lib/python3.9/site-packages/IPython/core/pylabtools.py:152: UserWarning:\n",
      "\n",
      "Glyph 22269 (\\N{CJK UNIFIED IDEOGRAPH-56FD}) missing from current font.\n",
      "\n",
      "/Users/limuqing/anaconda3/envs/tf_env/lib/python3.9/site-packages/IPython/core/pylabtools.py:152: UserWarning:\n",
      "\n",
      "Glyph 38271 (\\N{CJK UNIFIED IDEOGRAPH-957F}) missing from current font.\n",
      "\n",
      "/Users/limuqing/anaconda3/envs/tf_env/lib/python3.9/site-packages/IPython/core/pylabtools.py:152: UserWarning:\n",
      "\n",
      "Glyph 27743 (\\N{CJK UNIFIED IDEOGRAPH-6C5F}) missing from current font.\n",
      "\n",
      "/Users/limuqing/anaconda3/envs/tf_env/lib/python3.9/site-packages/IPython/core/pylabtools.py:152: UserWarning:\n",
      "\n",
      "Glyph 19977 (\\N{CJK UNIFIED IDEOGRAPH-4E09}) missing from current font.\n",
      "\n",
      "/Users/limuqing/anaconda3/envs/tf_env/lib/python3.9/site-packages/IPython/core/pylabtools.py:152: UserWarning:\n",
      "\n",
      "Glyph 23777 (\\N{CJK UNIFIED IDEOGRAPH-5CE1}) missing from current font.\n",
      "\n",
      "/Users/limuqing/anaconda3/envs/tf_env/lib/python3.9/site-packages/IPython/core/pylabtools.py:152: UserWarning:\n",
      "\n",
      "Glyph 20844 (\\N{CJK UNIFIED IDEOGRAPH-516C}) missing from current font.\n",
      "\n",
      "/Users/limuqing/anaconda3/envs/tf_env/lib/python3.9/site-packages/IPython/core/pylabtools.py:152: UserWarning:\n",
      "\n",
      "Glyph 21496 (\\N{CJK UNIFIED IDEOGRAPH-53F8}) missing from current font.\n",
      "\n",
      "/Users/limuqing/anaconda3/envs/tf_env/lib/python3.9/site-packages/IPython/core/pylabtools.py:152: UserWarning:\n",
      "\n",
      "Glyph 20803 (\\N{CJK UNIFIED IDEOGRAPH-5143}) missing from current font.\n",
      "\n",
      "/Users/limuqing/anaconda3/envs/tf_env/lib/python3.9/site-packages/IPython/core/pylabtools.py:152: UserWarning:\n",
      "\n",
      "Glyph 26519 (\\N{CJK UNIFIED IDEOGRAPH-6797}) missing from current font.\n",
      "\n",
      "/Users/limuqing/anaconda3/envs/tf_env/lib/python3.9/site-packages/IPython/core/pylabtools.py:152: UserWarning:\n",
      "\n",
      "Glyph 22522 (\\N{CJK UNIFIED IDEOGRAPH-57FA}) missing from current font.\n",
      "\n",
      "/Users/limuqing/anaconda3/envs/tf_env/lib/python3.9/site-packages/IPython/core/pylabtools.py:152: UserWarning:\n",
      "\n",
      "Glyph 37329 (\\N{CJK UNIFIED IDEOGRAPH-91D1}) missing from current font.\n",
      "\n",
      "/Users/limuqing/anaconda3/envs/tf_env/lib/python3.9/site-packages/IPython/core/pylabtools.py:152: UserWarning:\n",
      "\n",
      "Glyph 20250 (\\N{CJK UNIFIED IDEOGRAPH-4F1A}) missing from current font.\n",
      "\n",
      "/Users/limuqing/anaconda3/envs/tf_env/lib/python3.9/site-packages/IPython/core/pylabtools.py:152: UserWarning:\n",
      "\n",
      "Glyph 27867 (\\N{CJK UNIFIED IDEOGRAPH-6CDB}) missing from current font.\n",
      "\n",
      "/Users/limuqing/anaconda3/envs/tf_env/lib/python3.9/site-packages/IPython/core/pylabtools.py:152: UserWarning:\n",
      "\n",
      "Glyph 28023 (\\N{CJK UNIFIED IDEOGRAPH-6D77}) missing from current font.\n",
      "\n",
      "/Users/limuqing/anaconda3/envs/tf_env/lib/python3.9/site-packages/IPython/core/pylabtools.py:152: UserWarning:\n",
      "\n",
      "Glyph 25511 (\\N{CJK UNIFIED IDEOGRAPH-63A7}) missing from current font.\n",
      "\n",
      "/Users/limuqing/anaconda3/envs/tf_env/lib/python3.9/site-packages/IPython/core/pylabtools.py:152: UserWarning:\n",
      "\n",
      "Glyph 32929 (\\N{CJK UNIFIED IDEOGRAPH-80A1}) missing from current font.\n",
      "\n",
      "/Users/limuqing/anaconda3/envs/tf_env/lib/python3.9/site-packages/IPython/core/pylabtools.py:152: UserWarning:\n",
      "\n",
      "Glyph 21170 (\\N{CJK UNIFIED IDEOGRAPH-52B2}) missing from current font.\n",
      "\n",
      "/Users/limuqing/anaconda3/envs/tf_env/lib/python3.9/site-packages/IPython/core/pylabtools.py:152: UserWarning:\n",
      "\n",
      "Glyph 29260 (\\N{CJK UNIFIED IDEOGRAPH-724C}) missing from current font.\n",
      "\n",
      "/Users/limuqing/anaconda3/envs/tf_env/lib/python3.9/site-packages/IPython/core/pylabtools.py:152: UserWarning:\n",
      "\n",
      "Glyph 26377 (\\N{CJK UNIFIED IDEOGRAPH-6709}) missing from current font.\n",
      "\n",
      "/Users/limuqing/anaconda3/envs/tf_env/lib/python3.9/site-packages/IPython/core/pylabtools.py:152: UserWarning:\n",
      "\n",
      "Glyph 38480 (\\N{CJK UNIFIED IDEOGRAPH-9650}) missing from current font.\n",
      "\n",
      "/Users/limuqing/anaconda3/envs/tf_env/lib/python3.9/site-packages/IPython/core/pylabtools.py:152: UserWarning:\n",
      "\n",
      "Glyph 20142 (\\N{CJK UNIFIED IDEOGRAPH-4EAE}) missing from current font.\n",
      "\n",
      "/Users/limuqing/anaconda3/envs/tf_env/lib/python3.9/site-packages/IPython/core/pylabtools.py:152: UserWarning:\n",
      "\n",
      "Glyph 26361 (\\N{CJK UNIFIED IDEOGRAPH-66F9}) missing from current font.\n",
      "\n",
      "/Users/limuqing/anaconda3/envs/tf_env/lib/python3.9/site-packages/IPython/core/pylabtools.py:152: UserWarning:\n",
      "\n",
      "Glyph 24503 (\\N{CJK UNIFIED IDEOGRAPH-5FB7}) missing from current font.\n",
      "\n",
      "/Users/limuqing/anaconda3/envs/tf_env/lib/python3.9/site-packages/IPython/core/pylabtools.py:152: UserWarning:\n",
      "\n",
      "Glyph 26106 (\\N{CJK UNIFIED IDEOGRAPH-65FA}) missing from current font.\n",
      "\n",
      "/Users/limuqing/anaconda3/envs/tf_env/lib/python3.9/site-packages/IPython/core/pylabtools.py:152: UserWarning:\n",
      "\n",
      "Glyph 27888 (\\N{CJK UNIFIED IDEOGRAPH-6CF0}) missing from current font.\n",
      "\n",
      "/Users/limuqing/anaconda3/envs/tf_env/lib/python3.9/site-packages/IPython/core/pylabtools.py:152: UserWarning:\n",
      "\n",
      "Glyph 31166 (\\N{CJK UNIFIED IDEOGRAPH-79BE}) missing from current font.\n",
      "\n"
     ]
    },
    {
     "data": {
      "image/png": "[encoded data removed]",
      "text/plain": [
       "<Figure size 1000x600 with 1 Axes>"
      ]
     },
     "metadata": {},
     "output_type": "display_data"
    }
   ],
   "source": [
    "# Use Seaborn to draw a bar chart of donation amounts\n",
    "palette = sns.color_palette(\"Reds\", len(top_10_donors))\n",
    "plt.figure(figsize=(10, 6))\n",
    "sns.barplot(data=top_10_donors, x='Name', y='Total Amount', palette=palette)\n",
    "plt.xlabel('Donor')\n",
    "plt.ylabel('Donation Amount')\n",
    "plt.title('Top 10 Donors - Donation Amount')\n",
    "plt.xticks(range(len(top_10_donors)), top_10_donors['Name'],rotation=45)\n",
    "plt.show()"
   ]
  }
 ],
 "metadata": {
  "kernelspec": {
   "display_name": "tf_env",
   "language": "python",
   "name": "python3"
  },
  "language_info": {
   "codemirror_mode": {
    "name": "ipython",
    "version": 3
   },
   "file_extension": ".py",
   "mimetype": "text/x-python",
   "name": "python",
   "nbconvert_exporter": "python",
   "pygments_lexer": "ipython3",
   "version": "3.9.16"
  },
  "orig_nbformat": 4
 },
 "nbformat": 4,
 "nbformat_minor": 2
}
